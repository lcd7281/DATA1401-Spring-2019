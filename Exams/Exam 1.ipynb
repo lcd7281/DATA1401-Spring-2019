{
 "cells": [
  {
   "cell_type": "code",
   "execution_count": 1,
   "metadata": {
    "collapsed": true
   },
   "outputs": [],
   "source": [
    "#2a\n",
    "def constant(n,m,c):\n",
    "    list = []\n",
    "    for row in range(m):\n",
    "        list2 = []\n",
    "        for col in range(n):\n",
    "            list2.append(float(c))\n",
    "        list.append(list2)\n",
    "    return list\n"
   ]
  },
  {
   "cell_type": "code",
   "execution_count": 2,
   "metadata": {},
   "outputs": [
    {
     "name": "stdout",
     "output_type": "stream",
     "text": [
      "[[4.0, 4.0], [4.0, 4.0], [4.0, 4.0]]\n"
     ]
    }
   ],
   "source": [
    "#Test Solution\n",
    "output = constant(2,3,4)\n",
    "print output"
   ]
  },
  {
   "cell_type": "code",
   "execution_count": 3,
   "metadata": {
    "collapsed": true
   },
   "outputs": [],
   "source": [
    "#2b(i)\n",
    "def zeros(n,m):\n",
    "    list = []\n",
    "    for i in range(m):\n",
    "        list.append([])\n",
    "        for j in range(n):\n",
    "            list[-1].append(float(0))\n",
    "    return list"
   ]
  },
  {
   "cell_type": "code",
   "execution_count": 4,
   "metadata": {},
   "outputs": [
    {
     "name": "stdout",
     "output_type": "stream",
     "text": [
      "[[0.0, 0.0], [0.0, 0.0], [0.0, 0.0]]\n"
     ]
    }
   ],
   "source": [
    "#Test Solution\n",
    "output = zeros(2,3)\n",
    "print output"
   ]
  },
  {
   "cell_type": "code",
   "execution_count": 44,
   "metadata": {
    "collapsed": true
   },
   "outputs": [],
   "source": [
    "#2b(ii)\n",
    "def ones(n,m):\n",
    "    list = []\n",
    "    for i in range(m):\n",
    "        list.append([])\n",
    "        for j in range(n):\n",
    "            list[-1].append(float(1))\n",
    "    return list"
   ]
  },
  {
   "cell_type": "code",
   "execution_count": 46,
   "metadata": {},
   "outputs": [
    {
     "name": "stdout",
     "output_type": "stream",
     "text": [
      "[[1.0, 1.0], [1.0, 1.0], [1.0, 1.0]]\n"
     ]
    }
   ],
   "source": [
    "#Test Solution\n",
    "output = ones(2,3)\n",
    "print output"
   ]
  },
  {
   "cell_type": "code",
   "execution_count": 77,
   "metadata": {
    "collapsed": true
   },
   "outputs": [],
   "source": [
    "#2c\n",
    "def eye(n):\n",
    "    iden=[[0 for x in range(n)] for y in range(n)]\n",
    "    for i in range(0,n):\n",
    "        iden[i][i] = 1\n",
    "    return iden"
   ]
  },
  {
   "cell_type": "code",
   "execution_count": 78,
   "metadata": {},
   "outputs": [
    {
     "name": "stdout",
     "output_type": "stream",
     "text": [
      "[[1, 0, 0, 0, 0], [0, 1, 0, 0, 0], [0, 0, 1, 0, 0], [0, 0, 0, 1, 0], [0, 0, 0, 0, 1]]\n"
     ]
    }
   ],
   "source": [
    "#Test Solution\n",
    "output = eye(5)\n",
    "print output"
   ]
  },
  {
   "cell_type": "code",
   "execution_count": 3,
   "metadata": {
    "collapsed": true
   },
   "outputs": [],
   "source": [
    "#3a\n",
    "def shape(M):\n",
    "    r = len(M)\n",
    "    c = len(M[0])\n",
    "    x = (r,c)\n",
    "    for i in M:\n",
    "        if len(i)!=c:\n",
    "            return False\n",
    "        else:\n",
    "            c=len(i)\n",
    "    return x\n"
   ]
  },
  {
   "cell_type": "code",
   "execution_count": 4,
   "metadata": {},
   "outputs": [
    {
     "name": "stdout",
     "output_type": "stream",
     "text": [
      "(3, 2)\n"
     ]
    }
   ],
   "source": [
    "#Test Solution\n",
    "output = shape([[1, 2],[3, 4],[5, 6]])\n",
    "print output"
   ]
  },
  {
   "cell_type": "code",
   "execution_count": 3,
   "metadata": {},
   "outputs": [],
   "source": [
    "#3b(i)\n",
    "def row(M,n):\n",
    "    out = []\n",
    "    for i in M:\n",
    "        r = i[n]\n",
    "        out.append(r)\n",
    "    return out"
   ]
  },
  {
   "cell_type": "code",
   "execution_count": 4,
   "metadata": {},
   "outputs": [
    {
     "name": "stdout",
     "output_type": "stream",
     "text": [
      "[2, 4, 6]\n"
     ]
    }
   ],
   "source": [
    "#Test Solution\n",
    "output = row([[1, 2],[3, 4],[5, 6]],1)\n",
    "print output"
   ]
  },
  {
   "cell_type": "code",
   "execution_count": 79,
   "metadata": {
    "collapsed": true
   },
   "outputs": [],
   "source": [
    "#3b(ii)\n",
    "def column(M,n):\n",
    "    c = M[n]\n",
    "    return c"
   ]
  },
  {
   "cell_type": "code",
   "execution_count": 80,
   "metadata": {},
   "outputs": [
    {
     "name": "stdout",
     "output_type": "stream",
     "text": [
      "[1, 2, 5]\n"
     ]
    }
   ],
   "source": [
    "#Test Solution\n",
    "output = column([[1, 2, 5],[3, 4, 6],[5, 6, 8]],0)\n",
    "print output"
   ]
  },
  {
   "cell_type": "code",
   "execution_count": 41,
   "metadata": {
    "collapsed": true
   },
   "outputs": [],
   "source": [
    "#3c\n",
    "def block(M,n_0,n_1,m_0,m_1):\n",
    "    rows = \n",
    "    cols = \n",
    "    return rows,cols\n",
    "   "
   ]
  },
  {
   "cell_type": "code",
   "execution_count": 42,
   "metadata": {},
   "outputs": [
    {
     "name": "stdout",
     "output_type": "stream",
     "text": [
      "(array([0, 2]), array([0, 1]))\n"
     ]
    }
   ],
   "source": [
    "#Test Solution\n",
    "output = block([[1, 2, 5],[3, 4, 6],[10, 6, 8]],0,2,0,1)\n",
    "print output"
   ]
  },
  {
   "cell_type": "code",
   "execution_count": 5,
   "metadata": {},
   "outputs": [],
   "source": [
    "#4a\n",
    "def transpose(M):\n",
    "    t = []\n",
    "    i = 0\n",
    "    while i<len(M):\n",
    "        j = 0\n",
    "        cv = []\n",
    "        while j < len(M):\n",
    "            cv.append(M[j][i])\n",
    "            j = j + 1\n",
    "        t.append(cv)\n",
    "        i = i + 1\n",
    "    return t"
   ]
  },
  {
   "cell_type": "code",
   "execution_count": 6,
   "metadata": {},
   "outputs": [
    {
     "name": "stdout",
     "output_type": "stream",
     "text": [
      "[[1, 3, 10], [2, 4, 6], [5, 6, 8]]\n"
     ]
    }
   ],
   "source": [
    "#Test Solution\n",
    "output = transpose([[1, 2, 5],[3, 4, 6],[10, 6, 8]])\n",
    "print output"
   ]
  },
  {
   "cell_type": "code",
   "execution_count": 7,
   "metadata": {},
   "outputs": [],
   "source": [
    "#4b\n",
    "def scalarmul(M,c):\n",
    "    result = []\n",
    "    i=0\n",
    "    while i<len(M):\n",
    "        j=0\n",
    "        list_within = []\n",
    "        while j<len(M):\n",
    "            sc = c*j\n",
    "            list_within.append(sc)\n",
    "            j=j+1\n",
    "        result.append(list_within)\n",
    "        i=i+1\n",
    "    return result"
   ]
  },
  {
   "cell_type": "code",
   "execution_count": 8,
   "metadata": {},
   "outputs": [
    {
     "name": "stdout",
     "output_type": "stream",
     "text": [
      "[[0, 2, 4], [0, 2, 4], [0, 2, 4]]\n"
     ]
    }
   ],
   "source": [
    "#Test Solution\n",
    "output = scalarmul([[1, 2, 5],[3, 4, 6],[10, 6, 8]],2)\n",
    "print output"
   ]
  },
  {
   "cell_type": "code",
   "execution_count": 9,
   "metadata": {
    "collapsed": true
   },
   "outputs": [],
   "source": [
    "#4c\n",
    "def add(M,N):\n",
    "    ad = []\n",
    "    for i in range(len(M)):    \n",
    "        for j in range(len(M[0])): \n",
    "            ad[i][j] = M[i][j] + N[i][j] \n",
    "        ad.append(ad[i][j])\n",
    "    #if and else statement for Addition of matrices without same size\n",
    "        x_r = len(M)\n",
    "        x_c = len(M[0])\n",
    "        x_r_c = (x_r,x_c)\n",
    "        y_r = len(N)\n",
    "        y_c = len(N[0])\n",
    "        y_r_c = (y_r,y_c)\n",
    "        if x_r_c != y_r_c:\n",
    "            return False\n",
    "        else:\n",
    "            x_r_c = y_r_c\n",
    "        return ad \n",
    "    \n",
    "    "
   ]
  },
  {
   "cell_type": "code",
   "execution_count": 10,
   "metadata": {},
   "outputs": [
    {
     "ename": "IndexError",
     "evalue": "list index out of range",
     "output_type": "error",
     "traceback": [
      "\u001b[0;31m\u001b[0m",
      "\u001b[0;31mIndexError\u001b[0mTraceback (most recent call last)",
      "\u001b[0;32m<ipython-input-10-161f3419f5ef>\u001b[0m in \u001b[0;36m<module>\u001b[0;34m()\u001b[0m\n\u001b[0;32m----> 1\u001b[0;31m \u001b[0moutput\u001b[0m \u001b[0;34m=\u001b[0m \u001b[0madd\u001b[0m\u001b[0;34m(\u001b[0m\u001b[0;34m[\u001b[0m\u001b[0;34m[\u001b[0m\u001b[0;36m1\u001b[0m\u001b[0;34m,\u001b[0m \u001b[0;36m2\u001b[0m\u001b[0;34m,\u001b[0m \u001b[0;36m5\u001b[0m\u001b[0;34m]\u001b[0m\u001b[0;34m,\u001b[0m\u001b[0;34m[\u001b[0m\u001b[0;36m3\u001b[0m\u001b[0;34m,\u001b[0m \u001b[0;36m4\u001b[0m\u001b[0;34m,\u001b[0m \u001b[0;36m6\u001b[0m\u001b[0;34m]\u001b[0m\u001b[0;34m,\u001b[0m\u001b[0;34m[\u001b[0m\u001b[0;36m10\u001b[0m\u001b[0;34m,\u001b[0m \u001b[0;36m6\u001b[0m\u001b[0;34m,\u001b[0m \u001b[0;36m8\u001b[0m\u001b[0;34m]\u001b[0m\u001b[0;34m]\u001b[0m\u001b[0;34m,\u001b[0m\u001b[0;34m[\u001b[0m\u001b[0;34m[\u001b[0m\u001b[0;36m10\u001b[0m\u001b[0;34m,\u001b[0m \u001b[0;36m2\u001b[0m\u001b[0;34m,\u001b[0m \u001b[0;36m5\u001b[0m\u001b[0;34m]\u001b[0m\u001b[0;34m,\u001b[0m\u001b[0;34m[\u001b[0m\u001b[0;36m3\u001b[0m\u001b[0;34m,\u001b[0m \u001b[0;36m4\u001b[0m\u001b[0;34m,\u001b[0m \u001b[0;36m6\u001b[0m\u001b[0;34m]\u001b[0m\u001b[0;34m,\u001b[0m\u001b[0;34m[\u001b[0m\u001b[0;36m10\u001b[0m\u001b[0;34m,\u001b[0m \u001b[0;36m6\u001b[0m\u001b[0;34m,\u001b[0m \u001b[0;36m8\u001b[0m\u001b[0;34m]\u001b[0m\u001b[0;34m]\u001b[0m\u001b[0;34m)\u001b[0m\u001b[0;34m\u001b[0m\u001b[0m\n\u001b[0m\u001b[1;32m      2\u001b[0m \u001b[0;32mprint\u001b[0m \u001b[0moutput\u001b[0m\u001b[0;34m\u001b[0m\u001b[0m\n",
      "\u001b[0;32m<ipython-input-9-a88950ef09e2>\u001b[0m in \u001b[0;36madd\u001b[0;34m(M, N)\u001b[0m\n\u001b[1;32m      4\u001b[0m     \u001b[0;32mfor\u001b[0m \u001b[0mi\u001b[0m \u001b[0;32min\u001b[0m \u001b[0mrange\u001b[0m\u001b[0;34m(\u001b[0m\u001b[0mlen\u001b[0m\u001b[0;34m(\u001b[0m\u001b[0mM\u001b[0m\u001b[0;34m)\u001b[0m\u001b[0;34m)\u001b[0m\u001b[0;34m:\u001b[0m\u001b[0;34m\u001b[0m\u001b[0m\n\u001b[1;32m      5\u001b[0m         \u001b[0;32mfor\u001b[0m \u001b[0mj\u001b[0m \u001b[0;32min\u001b[0m \u001b[0mrange\u001b[0m\u001b[0;34m(\u001b[0m\u001b[0mlen\u001b[0m\u001b[0;34m(\u001b[0m\u001b[0mM\u001b[0m\u001b[0;34m[\u001b[0m\u001b[0;36m0\u001b[0m\u001b[0;34m]\u001b[0m\u001b[0;34m)\u001b[0m\u001b[0;34m)\u001b[0m\u001b[0;34m:\u001b[0m\u001b[0;34m\u001b[0m\u001b[0m\n\u001b[0;32m----> 6\u001b[0;31m             \u001b[0mad\u001b[0m\u001b[0;34m[\u001b[0m\u001b[0mi\u001b[0m\u001b[0;34m]\u001b[0m\u001b[0;34m[\u001b[0m\u001b[0mj\u001b[0m\u001b[0;34m]\u001b[0m \u001b[0;34m=\u001b[0m \u001b[0mM\u001b[0m\u001b[0;34m[\u001b[0m\u001b[0mi\u001b[0m\u001b[0;34m]\u001b[0m\u001b[0;34m[\u001b[0m\u001b[0mj\u001b[0m\u001b[0;34m]\u001b[0m \u001b[0;34m+\u001b[0m \u001b[0mN\u001b[0m\u001b[0;34m[\u001b[0m\u001b[0mi\u001b[0m\u001b[0;34m]\u001b[0m\u001b[0;34m[\u001b[0m\u001b[0mj\u001b[0m\u001b[0;34m]\u001b[0m\u001b[0;34m\u001b[0m\u001b[0m\n\u001b[0m\u001b[1;32m      7\u001b[0m         \u001b[0mad\u001b[0m\u001b[0;34m.\u001b[0m\u001b[0mappend\u001b[0m\u001b[0;34m(\u001b[0m\u001b[0mad\u001b[0m\u001b[0;34m[\u001b[0m\u001b[0mi\u001b[0m\u001b[0;34m]\u001b[0m\u001b[0;34m[\u001b[0m\u001b[0mj\u001b[0m\u001b[0;34m]\u001b[0m\u001b[0;34m)\u001b[0m\u001b[0;34m\u001b[0m\u001b[0m\n\u001b[1;32m      8\u001b[0m     \u001b[0;31m#if and else statement for Addition of matrices without same size\u001b[0m\u001b[0;34m\u001b[0m\u001b[0;34m\u001b[0m\u001b[0m\n",
      "\u001b[0;31mIndexError\u001b[0m: list index out of range"
     ]
    }
   ],
   "source": [
    "#Test Solution\n",
    "output = add([[1, 2, 5],[3, 4, 6],[10, 6, 8]],[[10, 2, 5],[3, 4, 6],[10, 6, 8]])\n",
    "print output"
   ]
  },
  {
   "cell_type": "code",
   "execution_count": 45,
   "metadata": {
    "collapsed": true
   },
   "outputs": [],
   "source": [
    "#4d\n",
    "import numpy as np\n",
    "def sub(M,N):\n",
    "    def scalarmul(N,c):\n",
    "        scale = c*np.array(N)\n",
    "        return scale\n",
    "    def add(M,N):\n",
    "        x = np.array(M)\n",
    "        y = np.array(N)\n",
    "        ad = x+y\n",
    "    return ad\n",
    "    "
   ]
  },
  {
   "cell_type": "code",
   "execution_count": 46,
   "metadata": {},
   "outputs": [
    {
     "name": "stdout",
     "output_type": "stream",
     "text": [
      "[[ -1  -2  -5]\n",
      " [ -3  -4  -6]\n",
      " [-10  -6  -8]]\n",
      "[[9 0 0]\n",
      " [0 0 0]\n",
      " [0 0 0]]\n"
     ]
    }
   ],
   "source": [
    "#Test Solution\n",
    "N = scalarmul([[1, 2, 5],[3,4,6],[10, 6, 8]],-1)\n",
    "print N\n",
    "M_minus_N = add([[10, 2, 5],[3, 4, 6],[10, 6, 8]],N)\n",
    "print M_minus_N"
   ]
  },
  {
   "cell_type": "code",
   "execution_count": 29,
   "metadata": {
    "collapsed": true
   },
   "outputs": [],
   "source": [
    "#4e\n",
    "def elementmult(M,N):\n",
    "    a = []\n",
    "    \n",
    "    return a\n"
   ]
  },
  {
   "cell_type": "code",
   "execution_count": 49,
   "metadata": {
    "collapsed": true
   },
   "outputs": [],
   "source": [
    "#4f\n",
    "def matmult(M,N): \n",
    "    def zeros(n,m):\n",
    "        list = []\n",
    "        for i in range(m):\n",
    "            list.append([])\n",
    "            for j in range(n):\n",
    "                list[-1].append(float(0))\n",
    "        return list\n",
    "\n",
    "    def matrix_multiply(M,N):\n",
    "        mM = len(M)\n",
    "        nM = len(M[0])\n",
    "\n",
    "        mN = len(N)\n",
    "        nN = len(N[0])\n",
    "\n",
    "        if nM != mN:\n",
    "            print('Number of M columns must equal number of N rows.')\n",
    "\n",
    "        Cons = zeros(n,m)\n",
    "        for i in range(mM):\n",
    "            for j in range(nN):\n",
    "                total = 0\n",
    "                for w in range(nM):\n",
    "                    total += A[i][w] * B[w][j]\n",
    "                Cons[i][j] = total\n",
    "\n",
    "        return Cons\n",
    "\n"
   ]
  },
  {
   "cell_type": "code",
   "execution_count": 50,
   "metadata": {},
   "outputs": [
    {
     "name": "stdout",
     "output_type": "stream",
     "text": [
      "None\n"
     ]
    }
   ],
   "source": [
    "M = [[10, 2, 5],[3, 4, 6],[10, 6, 8]]\n",
    "N = [[2, 2, 5],[3, 4, 8],[10, 6, 8]]\n",
    "output = matmult(M,N)\n",
    "print output"
   ]
  },
  {
   "cell_type": "code",
   "execution_count": 5,
   "metadata": {},
   "outputs": [
    {
     "ename": "IndentationError",
     "evalue": "expected an indented block (<ipython-input-5-b271069cb47c>, line 31)",
     "output_type": "error",
     "traceback": [
      "\u001b[0;36m  File \u001b[0;32m\"<ipython-input-5-b271069cb47c>\"\u001b[0;36m, line \u001b[0;32m31\u001b[0m\n\u001b[0;31m    \u001b[0m\n\u001b[0m    ^\u001b[0m\n\u001b[0;31mIndentationError\u001b[0m\u001b[0;31m:\u001b[0m expected an indented block\n"
     ]
    }
   ],
   "source": [
    "#In order to find inverse M has to satisfy certain conditions\n",
    "# 1. It has to be a square matrix \n",
    "# 2. The determinant canot equal 0\n",
    "def inv(M)\n",
    "    def squarematrix(M):\n",
    "        numrows = len(M)\n",
    "        numcols = len(M[0])\n",
    "        if numrows==numcols:\n",
    "            return M\n",
    "        else:\n",
    "            print(\"Not a square matrix. Inverse does not exist\")\n",
    "    def determinant(M):\n",
    "        if len(M)==2 and len(M[0])==2: #2x2 square matrix case\n",
    "            det = (M[0][0]*M[1][1])-(M[0][1]*M[1][0])\n",
    "            if det == 0:\n",
    "                print(\"Determinant is 0. Inverse does not exist\")\n",
    "            else:\n",
    "                return [[m[1][1]/det, -1*m[0][1]/det],\n",
    "                [-1*m[1][0]/det, m[0][0]/det]]\n",
    "#case for non 2x2 matrix \n",
    "#Two options for this case\n",
    "# 1. Reduced row form\n",
    "# 2. Determinant method: This is the method I will be using \n",
    "    # a. Find Determinant\n",
    "    # b. Tranpose matrix\n",
    "    # c. Find determinant of minor matrices\n",
    "    # d. Create matrix of co-factors\n",
    "    # e. Divide each term of the adjugate matrix by the determinant\n",
    "    def determinant1(M):\n",
    "        if len(M) or lenM[0] !=2:\n",
    "            \n",
    "    def transpose1(M):\n",
    "        t = []\n",
    "        i = 0\n",
    "        while i<len(M):\n",
    "            j = 0\n",
    "            cv = []\n",
    "            while j < len(M):\n",
    "                cv.append(M[j][i])\n",
    "                j = j + 1\n",
    "            t.append(cv)\n",
    "            i = i + 1\n",
    "        return t\n",
    "    def minorMatrix(M,i.j):\n",
    "        for row in (M[:i]+M[i+1:])\n",
    "        return  return [row[:j] + row[j+1:]\n",
    "\n"
   ]
  },
  {
   "cell_type": "code",
   "execution_count": 34,
   "metadata": {},
   "outputs": [
    {
     "name": "stdout",
     "output_type": "stream",
     "text": [
      "None\n"
     ]
    }
   ],
   "source": [
    "output = inv([[3,2],[4,5]])\n",
    "print output"
   ]
  },
  {
   "cell_type": "code",
   "execution_count": null,
   "metadata": {
    "collapsed": true
   },
   "outputs": [],
   "source": []
  }
 ],
 "metadata": {
  "kernelspec": {
   "display_name": "Python 2",
   "language": "python",
   "name": "python2"
  },
  "language_info": {
   "codemirror_mode": {
    "name": "ipython",
    "version": 2
   },
   "file_extension": ".py",
   "mimetype": "text/x-python",
   "name": "python",
   "nbconvert_exporter": "python",
   "pygments_lexer": "ipython2",
   "version": "2.7.15"
  }
 },
 "nbformat": 4,
 "nbformat_minor": 2
}
