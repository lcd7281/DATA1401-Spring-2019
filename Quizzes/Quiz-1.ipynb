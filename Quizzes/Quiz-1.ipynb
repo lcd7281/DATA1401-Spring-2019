{
 "cells": [
  {
   "cell_type": "code",
   "execution_count": null,
   "metadata": {
    "collapsed": true
   },
   "outputs": [],
   "source": [
    "import random\n",
    "def generate_normal(N):\n",
    "        out = list()\n",
    "        u1 = random.random()\n",
    "        u2 = random.random()\n",
    "\n",
    "        z1 = sqrt(-2 * log(u1)) * sin(2 * pi * u2)\n",
    "        z2 = sqrt(-2 * log(u1)) * cos(2 * pi * u2)\n",
    "    \n",
    "    return out+\n",
    "\n"
   ]
  },
  {
   "cell_type": "code",
   "execution_count": null,
   "metadata": {
    "collapsed": true
   },
   "outputs": [],
   "source": []
  },
  {
   "cell_type": "code",
   "execution_count": null,
   "metadata": {
    "collapsed": true
   },
   "outputs": [],
   "source": [
    "def mean(x)\n",
    "    return sum(x)/float(len(x))\n",
    "def variace(x)\n",
    "    return sum(map(lambda y:**2,x))/float(len(x))-mean(x)**2"
   ]
  },
  {
   "cell_type": "code",
   "execution_count": null,
   "metadata": {
    "collapsed": true
   },
   "outputs": [],
   "source": []
  }
 ],
 "metadata": {
  "kernelspec": {
   "display_name": "Python 2",
   "language": "python",
   "name": "python2"
  },
  "language_info": {
   "codemirror_mode": {
    "name": "ipython",
    "version": 2
   },
   "file_extension": ".py",
   "mimetype": "text/x-python",
   "name": "python",
   "nbconvert_exporter": "python",
   "pygments_lexer": "ipython2",
   "version": "2.7.13"
  }
 },
 "nbformat": 4,
 "nbformat_minor": 2
}
