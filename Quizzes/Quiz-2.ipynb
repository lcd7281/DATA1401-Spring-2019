{
 "cells": [
  {
   "cell_type": "code",
   "execution_count": 6,
   "metadata": {},
   "outputs": [],
   "source": [
    "from gradebook import *"
   ]
  },
  {
   "cell_type": "code",
   "execution_count": 21,
   "metadata": {},
   "outputs": [],
   "source": [
    "class curved_letter_grader(grade_calculator):\n",
    "    def __init__(self,grade_name,mean,sd):   \n",
    "        self.mean = mean\n",
    "        self.sd = sd\n",
    "        self.grade_name=grade_name\n",
    "        grade_calculator.__init__(self, \"curved_letter_grader\",False)\n",
    "    \n",
    "    def apply(self,a_grade):\n",
    "        nm_min1sd = self.mean-1*self.sd\n",
    "        nm_min2sd = self.mean-2*self.sd\n",
    "        nm_min3sd = self.mean-3*self.sd\n",
    "        nm_1sd = self.mean+1*self.sd\n",
    "        nm_2sd = self.mean+2*self.sd\n",
    "        nm_3sd = self.mean+3*self.sd\n",
    "        \n",
    "        out_grade=str()\n",
    "    \n",
    "        if a_grade >= self.mean and a_grade < nm_1sd:\n",
    "            out_grade=\"B-\"\n",
    "            print \"You have an B-\"\n",
    "        elif a_grade >= nm_1sd and a_grade < nm_2sd:\n",
    "            out_grade=\"B-\"\n",
    "            print \"You have an B+\"\n",
    "        elif a_grade >= nm_2sd and a_grade < nm_3sd:\n",
    "            out_grade=\"A-\"\n",
    "            print \"You have an A-\"\n",
    "        elif a_grade >= nm_3sd:\n",
    "            out_grade=\"A+\"\n",
    "            print \"You have an A+\"\n",
    "        else:\n",
    "            out_grade=\"F\"\n",
    "            print \"You failed the test\"\n",
    "\n",
    "        return grade(name=self.grade_name,value=out_grade)"
   ]
  },
  {
   "cell_type": "code",
   "execution_count": 22,
   "metadata": {},
   "outputs": [],
   "source": [
    "a = curved_letter_grader(\"A Grade\",50,10)"
   ]
  },
  {
   "cell_type": "code",
   "execution_count": 25,
   "metadata": {},
   "outputs": [
    {
     "name": "stdout",
     "output_type": "stream",
     "text": [
      "You failed the test\n",
      "A Grade: F\n"
     ]
    }
   ],
   "source": [
    "result = a.apply(grade(\"Test Grade\",value=80))\n",
    "print result"
   ]
  },
  {
   "cell_type": "code",
   "execution_count": null,
   "metadata": {},
   "outputs": [],
   "source": []
  }
 ],
 "metadata": {
  "kernelspec": {
   "display_name": "Python 2",
   "language": "python",
   "name": "python2"
  },
  "language_info": {
   "codemirror_mode": {
    "name": "ipython",
    "version": 2
   },
   "file_extension": ".py",
   "mimetype": "text/x-python",
   "name": "python",
   "nbconvert_exporter": "python",
   "pygments_lexer": "ipython2",
   "version": "2.7.15"
  }
 },
 "nbformat": 4,
 "nbformat_minor": 2
}
