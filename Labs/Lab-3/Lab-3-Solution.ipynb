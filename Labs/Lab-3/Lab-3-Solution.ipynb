{
 "cells": [
  {
   "cell_type": "markdown",
   "metadata": {},
   "source": [
    "# Lab 3\n",
    "\n",
    "## Submitting lab solutions\n",
    "\n",
    "At the end of the previous lab, you should have set up a \"Solutions\" directory in your home directory on TACC, with a fork of the class git repository that pull from Dr. Farbin's verison and pushes to your own fork. \n",
    "\n",
    "Open a terminal, navigate to your fork, and use `git remove -v` to verify that things are correctly setup.\n",
    "\n",
    "Your solutions to the lab 2 are either sitting in this fork, or in the first clone of the class repository that you made at the beginning of lab 2. \n",
    "\n",
    "Note that Jupyter tends to auto-save your work. But to make sure, it is a good habit to use the \"Save and Checkpoint\" command from the \"File\" menu whenever you are ending a session.\n",
    "\n",
    "Locate the your lab 2 notebook and copy and rename it into the same directory in your fork. \n",
    "\n",
    "For example:"
   ]
  },
  {
   "cell_type": "code",
<<<<<<< HEAD
   "execution_count": 1,
=======
   "execution_count": null,
>>>>>>> 9e6e60c4719e848bc59d9091ae2b82f50e922c6a
   "metadata": {
    "collapsed": true
   },
   "outputs": [],
   "source": [
    "!cp ~/DATA1401-Spring-2019/Labs/Lab-2/Lab-2.ipynb ~/Solutions/DATA1401-Spring-2019/Labs/Lab-2/Lab-2-Solution.ipynb"
   ]
  },
  {
   "cell_type": "markdown",
   "metadata": {},
   "source": [
    "The reason we are renaming the file is due to a complication that you may experience when pulling updates into your fork. If a file was updated after your last pull and modifications, your modifications will likely cause a merge conflict, which can be a headache to resolve. Creating a new file side-steps this problem.\n",
    "\n",
    "Now that you have a new file in your fork, add the file into local repository:"
   ]
  },
  {
   "cell_type": "code",
<<<<<<< HEAD
   "execution_count": 2,
=======
   "execution_count": null,
>>>>>>> 9e6e60c4719e848bc59d9091ae2b82f50e922c6a
   "metadata": {
    "collapsed": true
   },
   "outputs": [],
   "source": [
    "!git add ~/Solutions/DATA1401-Spring-2019/Labs/Lab-2/Lab-2-Solution.ipynb"
   ]
  },
  {
   "cell_type": "markdown",
   "metadata": {},
   "source": [
    "You only need to add a file once. Next, commit this file to your local copy of the repository:"
   ]
  },
  {
   "cell_type": "code",
<<<<<<< HEAD
   "execution_count": 3,
   "metadata": {},
   "outputs": [
    {
     "name": "stdout",
     "output_type": "stream",
     "text": [
      "On branch master\r\n",
      "Your branch is ahead of 'origin/master' by 1 commit.\r\n",
      "  (use \"git push\" to publish your local commits)\r\n",
      "Untracked files:\r\n",
      "\t\u001b[31m.ipynb_checkpoints/Lab-3-Solution-checkpoint.ipynb\u001b[m\r\n",
      "\t\u001b[31mLab-3-Solution.ipynb\u001b[m\r\n",
      "\r\n",
      "nothing added to commit but untracked files present\r\n"
     ]
    }
   ],
=======
   "execution_count": null,
   "metadata": {},
   "outputs": [],
>>>>>>> 9e6e60c4719e848bc59d9091ae2b82f50e922c6a
   "source": [
    "!git commit -a -m \"My Lab 2 Solutions\""
   ]
  },
  {
   "cell_type": "markdown",
   "metadata": {},
   "source": [
    "You are required to provide a text message when commiting files, and the `-m` option is the nicest way to do it. If you do not supply a message, you will find yourself in a text editor (most likely vi) which is difficult to use and forced to enter a message.\n",
    "\n",
    "You will need to commit your changes every time you wish to submit any changes. So if you keep working or come back to a lab, make sure you commit your changes.\n",
    "\n",
    "Now that you committed your changes, you will need to push these changes to the fork of the package in your github account:"
   ]
  },
  {
   "cell_type": "code",
   "execution_count": null,
   "metadata": {},
<<<<<<< HEAD
   "outputs": [
    {
     "name": "stdout",
     "output_type": "stream",
     "text": [
      "Username for 'https://github.com': "
     ]
    }
   ],
=======
   "outputs": [],
>>>>>>> 9e6e60c4719e848bc59d9091ae2b82f50e922c6a
   "source": [
    "!git push"
   ]
  },
  {
   "cell_type": "markdown",
   "metadata": {},
   "source": [
    "You will likely need to supply you git username and password.\n",
    "\n",
    "Your lab is now available for grading. Remember that unless you commit and push your work, it will not be seen.\n",
    "\n",
    "From now on, use this procedure to submit your solutions to labs, including the remainder of this lab. \n",
    "\n",
    "You can work in your Solutions directory if you like. But note that it may be a good practice to use the \"File\" menu to duplicate and remain labs when you first start. Besides letting you avoid having to do the copy later, you will have a copy of the original notebook, in case you delete something and can pull updates, in case of bug fixes."
   ]
  },
  {
   "cell_type": "markdown",
   "metadata": {},
   "source": [
    "## Python Programming\n",
    "\n",
    "In the remainder of this lab you will practice python by solving some simple exercises. \n",
    "\n",
    "*Exercise 1:* Write 2 functions `even(x)` and `odd(x)` that take an integer and returns True if the input is even or odd, otherwise returns False. Use cell below for your solution. Use the subsequent cell to demonstrate that your solution works. Feel free to add additional cell as needed using the \"+\" button on the button bar above. "
   ]
  },
  {
   "cell_type": "code",
<<<<<<< HEAD
   "execution_count": 5,
=======
   "execution_count": null,
>>>>>>> 9e6e60c4719e848bc59d9091ae2b82f50e922c6a
   "metadata": {
    "collapsed": true
   },
   "outputs": [],
   "source": [
<<<<<<< HEAD
    "def odd(x):\n",
    "    return x % 2 == 1\n",
    "def even(x):\n",
    "    return x % 2 == 0"
=======
    "# Write you solution here\n",
    "def even(x):\n",
    "    if x % 2 == 0:\n",
    "        return True\n",
    "    else:\n",
    "        return False"
   ]
  },
  {
   "cell_type": "code",
   "execution_count": null,
   "metadata": {},
   "outputs": [],
   "source": [
    "even(20)"
>>>>>>> 9e6e60c4719e848bc59d9091ae2b82f50e922c6a
   ]
  },
  {
   "cell_type": "code",
<<<<<<< HEAD
   "execution_count": 6,
   "metadata": {},
   "outputs": [
    {
     "name": "stdout",
     "output_type": "stream",
     "text": [
      "False\n"
     ]
    }
   ],
   "source": [
    "print odd(2)"
=======
   "execution_count": null,
   "metadata": {},
   "outputs": [],
   "source": [
    "even(3)"
   ]
  },
  {
   "cell_type": "code",
   "execution_count": null,
   "metadata": {
    "collapsed": true
   },
   "outputs": [],
   "source": [
    "# Test your solution here\n",
    "def odd(x):\n",
    "    if x % 2 == 0:\n",
    "        return False\n",
    "    else:\n",
    "        return True"
   ]
  },
  {
   "cell_type": "code",
   "execution_count": null,
   "metadata": {},
   "outputs": [],
   "source": [
    "odd(20)"
   ]
  },
  {
   "cell_type": "code",
   "execution_count": null,
   "metadata": {},
   "outputs": [],
   "source": [
    "odd(3)"
>>>>>>> 9e6e60c4719e848bc59d9091ae2b82f50e922c6a
   ]
  },
  {
   "cell_type": "markdown",
   "metadata": {},
   "source": [
    "*Exercise 2:* Write a function that takes a list of numbers as input and returns a list of the subset of elements that are less that 10. Test your solution."
   ]
  },
  {
   "cell_type": "code",
<<<<<<< HEAD
   "execution_count": 25,
=======
   "execution_count": null,
>>>>>>> 9e6e60c4719e848bc59d9091ae2b82f50e922c6a
   "metadata": {
    "collapsed": true
   },
   "outputs": [],
   "source": [
<<<<<<< HEAD
    "def subset(list):\n",
    "    list2 = []\n",
    "    for element in list:\n",
    "        if element < 10:\n",
    "            list2.append(element)\n",
    "    return list2"
=======
    "# Write you solution here\n",
    "def lessThanTen(lst):\n",
    "    sol = []\n",
    "    for element in lst:\n",
    "        if element < 10:\n",
    "            sol.append(element)\n",
    "            \n",
    "    return sol"
>>>>>>> 9e6e60c4719e848bc59d9091ae2b82f50e922c6a
   ]
  },
  {
   "cell_type": "code",
<<<<<<< HEAD
   "execution_count": 26,
   "metadata": {},
   "outputs": [
    {
     "name": "stdout",
     "output_type": "stream",
     "text": [
      "[2, 3, 5, 6]\n"
     ]
    }
   ],
   "source": [
    "output = subset([2, 3, 5, 11, 12, 6])\n",
    "print output"
=======
   "execution_count": null,
   "metadata": {},
   "outputs": [],
   "source": [
    "# Test your solution here\n",
    "lst = [2,4,6,8,10,12,14,16,18,20]\n",
    "lessThanTen(lst)"
>>>>>>> 9e6e60c4719e848bc59d9091ae2b82f50e922c6a
   ]
  },
  {
   "cell_type": "markdown",
   "metadata": {},
   "source": [
    "*Exercise 3:* Write a function that takes a number `x_max` as input and returns a function that performs the same task as exercise 2, but for `x_max` instead of 10."
   ]
  },
  {
   "cell_type": "code",
<<<<<<< HEAD
   "execution_count": 30,
=======
   "execution_count": null,
>>>>>>> 9e6e60c4719e848bc59d9091ae2b82f50e922c6a
   "metadata": {
    "collapsed": true
   },
   "outputs": [],
   "source": [
<<<<<<< HEAD
    "def subset(list,x_max):\n",
    "    list2 = []\n",
    "    for element in list:\n",
    "        if element < x_max:\n",
    "            list2.append(element)\n",
    "    return list2"
=======
    "# Write you solution here\n",
    "def lessThan(lst,x_max):\n",
    "    sol = []\n",
    "    for element in lst:\n",
    "        if element < x_max:\n",
    "            sol.append(element)\n",
    "            \n",
    "    return sol"
>>>>>>> 9e6e60c4719e848bc59d9091ae2b82f50e922c6a
   ]
  },
  {
   "cell_type": "code",
<<<<<<< HEAD
   "execution_count": 32,
   "metadata": {},
   "outputs": [
    {
     "name": "stdout",
     "output_type": "stream",
     "text": [
      "Enter max number20\n",
      "[2, 3, 5, 11, 12, 6]\n"
     ]
    }
   ],
   "source": [
    "x_max = input(\"Enter max number\")\n",
    "output = subset([2, 3, 5, 11, 12, 6],x_max)\n",
    "print output"
=======
   "execution_count": null,
   "metadata": {},
   "outputs": [],
   "source": [
    "# Test your solution here\n",
    "lst = [2,4,6,8,10,12,14,16,18,20]\n",
    "lessThan(lst,6)"
   ]
  },
  {
   "cell_type": "code",
   "execution_count": null,
   "metadata": {},
   "outputs": [],
   "source": [
    "# Test your solution here\n",
    "lst = [2,4,6,8,10,12,14,16,18,20]\n",
    "lessThan(lst,18)"
>>>>>>> 9e6e60c4719e848bc59d9091ae2b82f50e922c6a
   ]
  },
  {
   "cell_type": "markdown",
   "metadata": {},
   "source": [
    "*Exercise 4:* Write a function that takes an interger as input and returns a list of all divisors of that number."
   ]
  },
  {
   "cell_type": "code",
<<<<<<< HEAD
   "execution_count": 1,
=======
   "execution_count": null,
>>>>>>> 9e6e60c4719e848bc59d9091ae2b82f50e922c6a
   "metadata": {
    "collapsed": true
   },
   "outputs": [],
   "source": [
<<<<<<< HEAD
    "def getFactors(n):\n",
    "    factors = []\n",
    "    for i in range(1,n):\n",
    "        if n % i == 0:\n",
    "            factors.append(i)\n",
    "    return factors\n",
    "    "
=======
    "# Write you solution here\n",
    "def getDivisors(num):\n",
    "    divisors = []\n",
    "    i = 1\n",
    "    while i <= num:\n",
    "        if num % i == 0:\n",
    "            divisors.append(i)\n",
    "        i += 1\n",
    "    return divisors"
>>>>>>> 9e6e60c4719e848bc59d9091ae2b82f50e922c6a
   ]
  },
  {
   "cell_type": "code",
<<<<<<< HEAD
   "execution_count": 2,
   "metadata": {},
   "outputs": [
    {
     "name": "stdout",
     "output_type": "stream",
     "text": [
      "[1, 2, 4, 5, 10]\n"
     ]
    }
   ],
   "source": [
    "print getFactors(20)"
=======
   "execution_count": null,
   "metadata": {},
   "outputs": [],
   "source": [
    "# Test your solution here\n",
    "getDivisors(10)"
>>>>>>> 9e6e60c4719e848bc59d9091ae2b82f50e922c6a
   ]
  },
  {
   "cell_type": "markdown",
   "metadata": {},
   "source": [
    "*Exercise 5:* Write a function that takes 2 lists as input and returns a list that contains only the elements that are common between the lists (without duplicates). Make sure your program works on two lists of different sizes."
   ]
  },
  {
   "cell_type": "code",
<<<<<<< HEAD
   "execution_count": 19,
=======
   "execution_count": null,
>>>>>>> 9e6e60c4719e848bc59d9091ae2b82f50e922c6a
   "metadata": {
    "collapsed": true
   },
   "outputs": [],
   "source": [
<<<<<<< HEAD
    "def commonElements(lista, listb):\n",
    "    both = []\n",
    "    for i in listb:\n",
    "        if i in lista and i not in both:\n",
    "            both.append(i)\n",
    "    return both\n",
    "\n",
    "\n",
    "\n",
    "\n",
    "\n"
=======
    "# Write you solution here\n",
    "def getCommon(list1,list2):\n",
    "    common = set()\n",
    "    for element in list1:\n",
    "        if element in list2:\n",
    "            common.add(element)\n",
    "    for element in list2:\n",
    "        if element in list1:\n",
    "            common.add(element)\n",
    "    return list(common)\n",
    "    "
   ]
  },
  {
   "cell_type": "code",
   "execution_count": null,
   "metadata": {},
   "outputs": [],
   "source": [
    "# Test your solution here\n",
    "getCommon([1,2,3,4],[2,4])"
>>>>>>> 9e6e60c4719e848bc59d9091ae2b82f50e922c6a
   ]
  },
  {
   "cell_type": "code",
<<<<<<< HEAD
   "execution_count": 20,
   "metadata": {},
   "outputs": [
    {
     "name": "stdout",
     "output_type": "stream",
     "text": [
      "[4, 8]\n"
     ]
    }
   ],
   "source": [
    "lista = [1, 2, 4, 8]\n",
    "listb = [4, 6, 8, 10]\n",
    "output = commonElements(lista, listb)\n",
    "print output"
=======
   "execution_count": null,
   "metadata": {},
   "outputs": [],
   "source": [
    "getCommon([1,3,5],[2,4,6])"
>>>>>>> 9e6e60c4719e848bc59d9091ae2b82f50e922c6a
   ]
  },
  {
   "cell_type": "markdown",
   "metadata": {},
   "source": [
    "*Exercise 6:* Write a function that reads takes a string and returns `True` if the string is a palindrome. (A palindrome is a string that reads the same forwards and backwards.)"
   ]
  },
  {
   "cell_type": "code",
<<<<<<< HEAD
   "execution_count": 26,
=======
   "execution_count": null,
>>>>>>> 9e6e60c4719e848bc59d9091ae2b82f50e922c6a
   "metadata": {
    "collapsed": true
   },
   "outputs": [],
   "source": [
<<<<<<< HEAD
    "def palindrome(word):\n",
    "    string1 = word.sort()\n",
    "    string2 = word.sort(reverse=True)\n",
    "    for i in word\n",
    "        if \n",
    "        if word[1,n] == word(n,1)\n",
    "            return True\n",
    "        else: \n",
    "            return False"
=======
    "# Write you solution here\n",
    "def isPalindrome(str1, str2):\n",
    "    return len(str1) == len(str2) and str1[::-1] == str2"
>>>>>>> 9e6e60c4719e848bc59d9091ae2b82f50e922c6a
   ]
  },
  {
   "cell_type": "code",
<<<<<<< HEAD
   "execution_count": 27,
   "metadata": {},
   "outputs": [
    {
     "ename": "NameError",
     "evalue": "global name 'reverse' is not defined",
     "output_type": "error",
     "traceback": [
      "\u001b[0;31m\u001b[0m",
      "\u001b[0;31mNameError\u001b[0mTraceback (most recent call last)",
      "\u001b[0;32m<ipython-input-27-f4fe4c97dd78>\u001b[0m in \u001b[0;36m<module>\u001b[0;34m()\u001b[0m\n\u001b[1;32m      1\u001b[0m \u001b[0mword\u001b[0m \u001b[0;34m=\u001b[0m \u001b[0;34m\"otto\"\u001b[0m\u001b[0;34m\u001b[0m\u001b[0m\n\u001b[0;32m----> 2\u001b[0;31m \u001b[0moutput\u001b[0m \u001b[0;34m=\u001b[0m \u001b[0mpalindrome\u001b[0m\u001b[0;34m(\u001b[0m\u001b[0mword\u001b[0m\u001b[0;34m)\u001b[0m\u001b[0;34m\u001b[0m\u001b[0m\n\u001b[0m\u001b[1;32m      3\u001b[0m \u001b[0;32mprint\u001b[0m \u001b[0moutput\u001b[0m\u001b[0;34m\u001b[0m\u001b[0m\n",
      "\u001b[0;32m<ipython-input-26-376da934f218>\u001b[0m in \u001b[0;36mpalindrome\u001b[0;34m(word)\u001b[0m\n\u001b[1;32m      1\u001b[0m \u001b[0;32mdef\u001b[0m \u001b[0mpalindrome\u001b[0m\u001b[0;34m(\u001b[0m\u001b[0mword\u001b[0m\u001b[0;34m)\u001b[0m\u001b[0;34m:\u001b[0m\u001b[0;34m\u001b[0m\u001b[0m\n\u001b[0;32m----> 2\u001b[0;31m     \u001b[0;32mif\u001b[0m \u001b[0mword\u001b[0m \u001b[0;34m==\u001b[0m \u001b[0mreverse\u001b[0m\u001b[0;34m(\u001b[0m\u001b[0mw\u001b[0m\u001b[0;34m)\u001b[0m\u001b[0;34m:\u001b[0m\u001b[0;34m\u001b[0m\u001b[0m\n\u001b[0m\u001b[1;32m      3\u001b[0m         \u001b[0;32mreturn\u001b[0m \u001b[0mTrue\u001b[0m\u001b[0;34m\u001b[0m\u001b[0m\n\u001b[1;32m      4\u001b[0m     \u001b[0;32melse\u001b[0m\u001b[0;34m:\u001b[0m\u001b[0;34m\u001b[0m\u001b[0m\n\u001b[1;32m      5\u001b[0m         \u001b[0;32mreturn\u001b[0m \u001b[0mFalse\u001b[0m\u001b[0;34m\u001b[0m\u001b[0m\n",
      "\u001b[0;31mNameError\u001b[0m: global name 'reverse' is not defined"
     ]
    }
   ],
   "source": [
    "word = \"otto\"\n",
    "output = palindrome(word)\n",
    "print output"
=======
   "execution_count": null,
   "metadata": {},
   "outputs": [],
   "source": [
    "# Test your solution here\n",
    "isPalindrome(\"abc\",\"cba\")"
   ]
  },
  {
   "cell_type": "code",
   "execution_count": null,
   "metadata": {},
   "outputs": [],
   "source": [
    "isPalindrome(\"abcd\",\"abcd\")"
>>>>>>> 9e6e60c4719e848bc59d9091ae2b82f50e922c6a
   ]
  },
  {
   "cell_type": "markdown",
   "metadata": {},
   "source": [
    "*Exercise 7:* Write a Rock-Paper-Scissors game function, that takes 2 strings, the inputs of player 1 and player 2, and output 1 or 2 corresponding to which player wins, or 0 if draw.\n",
    "\n",
    "Implement a Rock-Paper-Scissors game by soliciting input from 2 players, testing with this function, and repeating if there is a draw.\n",
    "\n",
    "Remember the rules:\n",
    "\n",
    "* Rock beats scissors\n",
    "* Scissors beats paper\n",
    "* Paper beats rock"
   ]
  },
  {
   "cell_type": "code",
   "execution_count": null,
   "metadata": {
    "collapsed": true
   },
   "outputs": [],
   "source": [
<<<<<<< HEAD
    "player1 = input(\"Enter name\")\n",
    "player2 = input(\"Enter name\")\n",
    "p1ans = input(\"Please choose: rock, paper or scissors\"%player1)\n",
    "p2ans = input(\"Please choose: rock, paper or scissors\"%player2)\n",
    "def compare(u1, u2):\n",
    "    if p1ans == p2ans:\n",
    "        return(\"It's a draw! Please continue\")\n",
    "    elif p1ans == 'rock':\n",
    "        if p2ans == 'scissors':\n",
    "            return(\"Rock wins!\")\n",
    "        else:\n",
    "            return(\"Paper wins!\")\n",
    "    elif p1ans == 'scissors':\n",
    "        if p2ans == 'paper':\n",
    "            return(\"Scissors win!\")\n",
    "        else:\n",
    "            return(\"Rock wins!\")\n",
    "    elif p1ans == 'paper':\n",
    "        if p2ans == 'rock':\n",
    "            return(\"Paper wins!\")\n",
    "        else:\n",
    "            return(\"Scissors win!\")\n",
    "    else:\n",
    "        return(\"Invalid input! You have not entered rock, paper or scissors, try again.\")\n",
    "        sys.exit()\n",
    "\n",
    "print(compare(p1ans, p2ans))"
=======
    "# Write you solution here\n",
    "\n",
    "def getScore(p1, p2):\n",
    "    if p1 == p2:\n",
    "        print(\"Draw.. play again\")\n",
    "        return 0\n",
    "    elif p1 == \"rock\":\n",
    "        if p2 == \"scissor\":\n",
    "            print(\"Player-1 wins\")\n",
    "            return 1\n",
    "        else:\n",
    "            print(\"Player-2 wins\")\n",
    "            return 2\n",
    "    elif p1 == \"scissor\":\n",
    "        if p2 == \"paper\":\n",
    "            print(\"Player-1 wins\")\n",
    "            return 1\n",
    "        else:\n",
    "            print(\"Player-2 wins\")\n",
    "            return 2\n",
    "    elif p1 == \"paper\":\n",
    "        if p2 == \"rock\":\n",
    "            print(\"Player-1 wins\")\n",
    "            return 1\n",
    "        else:\n",
    "            print(\"Player-2 wins\")\n",
    "            return 2\n",
    "\n",
    "\n",
    "def gameLoop():\n",
    "    while True:\n",
    "        p1 = raw_input(\"Player-1(rock / paper / scissor): \")\n",
    "        p2 = raw_input(\"Player-2(rock / paper / scissor): \")\n",
    "\n",
    "        score = getScore(p1.strip(), p2.strip())\n",
    "        if score != 0:\n",
    "            break"
>>>>>>> 9e6e60c4719e848bc59d9091ae2b82f50e922c6a
   ]
  },
  {
   "cell_type": "code",
   "execution_count": null,
<<<<<<< HEAD
   "metadata": {
    "collapsed": true
   },
   "outputs": [],
   "source": [
    "# Test your solution here"
=======
   "metadata": {},
   "outputs": [],
   "source": [
    "# Test your solution here\n",
    "gameLoop()"
>>>>>>> 9e6e60c4719e848bc59d9091ae2b82f50e922c6a
   ]
  },
  {
   "cell_type": "markdown",
   "metadata": {},
   "source": [
    "*Exercise 8:* Write a function that takes a integer `n` as input and \n",
    "outputs a list of the first `n` Fibonnaci numbers.\n",
    "\n",
    "The Fibonnaci seqence is a sequence of numbers where the next number in the sequence is the sum of the previous two numbers in the sequence. The sequence looks like this: 1, 1, 2, 3, 5, 8, 13, …)"
   ]
  },
  {
   "cell_type": "code",
   "execution_count": null,
   "metadata": {
    "collapsed": true
   },
   "outputs": [],
   "source": [
<<<<<<< HEAD
    "# Write you solution here"
=======
    "# Write you solution here\n",
    "def fibonacci(n):\n",
    "    if n <= 1:\n",
    "        return 1\n",
    "    else:\n",
    "        return (fibonacci(n-1) + fibonacci(n-2))\n",
    "    \n",
    "def getFibonacciSequence(n):\n",
    "    for i in range(n):\n",
    "        print(fibonacci(i))"
>>>>>>> 9e6e60c4719e848bc59d9091ae2b82f50e922c6a
   ]
  },
  {
   "cell_type": "code",
   "execution_count": null,
<<<<<<< HEAD
   "metadata": {
    "collapsed": true
   },
   "outputs": [],
   "source": [
    "# Test your solution here"
=======
   "metadata": {},
   "outputs": [],
   "source": [
    "# Test your solution here\n",
    "getFibonacciSequence(10)"
>>>>>>> 9e6e60c4719e848bc59d9091ae2b82f50e922c6a
   ]
  },
  {
   "cell_type": "markdown",
   "metadata": {},
   "source": [
    "*Exercise 9:* Write a function that takes a string of consisting of several words and returns a string that reverses the order of the words.\n"
   ]
  },
  {
   "cell_type": "code",
   "execution_count": null,
   "metadata": {
    "collapsed": true
   },
   "outputs": [],
   "source": [
<<<<<<< HEAD
    "# Write you solution here"
=======
    "# Write you solution here\n",
    "def reverse_words_order(str):\n",
    "    original_order = str.strip().split(\" \")\n",
    "    reverse_order = \"\"\n",
    "    for word in original_order[::-1]:\n",
    "        reverse_order += word\n",
    "        reverse_order += \" \"\n",
    "\n",
    "    return reverse_order"
>>>>>>> 9e6e60c4719e848bc59d9091ae2b82f50e922c6a
   ]
  },
  {
   "cell_type": "code",
   "execution_count": null,
<<<<<<< HEAD
   "metadata": {
    "collapsed": true
   },
   "outputs": [],
   "source": [
    "# Test your solution here"
=======
   "metadata": {},
   "outputs": [],
   "source": [
    "# Test your solution here\n",
    "reverse_words_order(\"this is a sentence\")"
>>>>>>> 9e6e60c4719e848bc59d9091ae2b82f50e922c6a
   ]
  },
  {
   "cell_type": "markdown",
   "metadata": {},
   "source": [
    "*Exercise 11:* Write a guessing game program that will repeatedly guess a number that the users picks, with the user indicating higher or lower, until it correctly guesses the number."
   ]
  },
  {
   "cell_type": "code",
   "execution_count": null,
   "metadata": {
    "collapsed": true
   },
   "outputs": [],
   "source": [
<<<<<<< HEAD
    "# Write you solution here"
=======
    "# Write you solution here\n",
    "def guessing_game():\n",
    "    low = 0\n",
    "    high = 100\n",
    "    mid = int((low + high) / 2)\n",
    "\n",
    "    print(\"Think of a no. between %s & %s\" % (low, high))\n",
    "    while True:\n",
    "        guess = raw_input(\"Is the no. %s? Is the guessed no. (l - low / h - high / y - yes): \" % (mid))\n",
    "        guess = guess.strip().lower()\n",
    "        if guess == \"l\":\n",
    "            low = mid\n",
    "            mid = int((low + high) / 2)\n",
    "        elif guess == \"h\":\n",
    "            high = mid\n",
    "            mid = int((low + high) / 2)\n",
    "        elif guess == \"y\":\n",
    "            print(\"Answer: \", mid)\n",
    "            break"
>>>>>>> 9e6e60c4719e848bc59d9091ae2b82f50e922c6a
   ]
  },
  {
   "cell_type": "code",
   "execution_count": null,
<<<<<<< HEAD
   "metadata": {
    "collapsed": true
   },
   "outputs": [],
   "source": [
    "# Test your solution here"
=======
   "metadata": {},
   "outputs": [],
   "source": [
    "# Test your solution here\n",
    "guessing_game()"
>>>>>>> 9e6e60c4719e848bc59d9091ae2b82f50e922c6a
   ]
  },
  {
   "cell_type": "markdown",
   "metadata": {},
   "source": [
    "*Exercise 10:* Write a function that takes 2 integers `n` and `m` as input and draws a `n` by `m` game board. For example the following is a 3x3 board:\n",
    "```\n",
    "   --- --- --- \n",
    "  |   |   |   | \n",
    "   --- --- ---  \n",
    "  |   |   |   | \n",
    "   --- --- ---  \n",
    "  |   |   |   | \n",
    "   --- --- --- \n",
    "   ```"
   ]
  },
  {
   "cell_type": "code",
   "execution_count": null,
   "metadata": {
    "collapsed": true
   },
   "outputs": [],
   "source": [
<<<<<<< HEAD
    "# Write you solution here"
=======
    "# Write you solution here\n",
    "def draw_game_board(m, n):\n",
    "    lines = \" ---\"\n",
    "    bars = \"|   \"\n",
    "    for i in range(m):\n",
    "        line = \"\"\n",
    "        for j in range(n):\n",
    "            line += lines\n",
    "        print(line)\n",
    "        line = \"\"\n",
    "        for k in range(n + 1):\n",
    "            line += bars\n",
    "        print(line)\n",
    "    print(lines * n)"
>>>>>>> 9e6e60c4719e848bc59d9091ae2b82f50e922c6a
   ]
  },
  {
   "cell_type": "code",
   "execution_count": null,
<<<<<<< HEAD
   "metadata": {
    "collapsed": true
   },
   "outputs": [],
   "source": [
    "# Test your solution here"
=======
   "metadata": {},
   "outputs": [],
   "source": [
    "# Test your solution here\n",
    "draw_game_board(3,3)"
>>>>>>> 9e6e60c4719e848bc59d9091ae2b82f50e922c6a
   ]
  },
  {
   "cell_type": "markdown",
   "metadata": {},
   "source": [
    "*Exercise 11:* Write a function that takes a `n` by `n` matrix representing a tic-tac-toe game, and return -1, 0, 1, or 2 indicating the game is incomplete, the game is a draw, player 1 has won, or player 2 has one, respectively. Here are some example inputs:"
   ]
  },
  {
   "cell_type": "code",
<<<<<<< HEAD
   "execution_count": 4,
=======
   "execution_count": null,
>>>>>>> 9e6e60c4719e848bc59d9091ae2b82f50e922c6a
   "metadata": {
    "collapsed": true
   },
   "outputs": [],
   "source": [
    "winner_is_2 = [[2, 2, 0],\n",
    "\t[2, 1, 0],\n",
    "\t[2, 1, 1]]\n",
    "\n",
    "winner_is_1 = [[1, 2, 0],\n",
    "\t[2, 1, 0],\n",
    "\t[2, 1, 1]]\n",
    "\n",
    "winner_is_also_1 = [[0, 1, 0],\n",
    "\t[2, 1, 0],\n",
    "\t[2, 1, 1]]\n",
    "\n",
    "no_winner = [[1, 2, 0],\n",
    "\t[2, 1, 0],\n",
    "\t[2, 1, 2]]\n",
    "\n",
    "also_no_winner = [[1, 2, 0],\n",
    "\t[2, 1, 0],\n",
    "\t[2, 1, 0]]"
   ]
  },
  {
   "cell_type": "code",
   "execution_count": null,
   "metadata": {
    "collapsed": true
   },
   "outputs": [],
   "source": [
<<<<<<< HEAD
    "# Write you solution here"
=======
    "# Write you solution here\n",
    "result_formatted = {1: \"1 : Player-1 has won\", 2: \"2 : Player-2 has won\",\n",
    "                    -1: \"-1 : The game is incomplete\", 0: \"0 : Its a tie\"}\n",
    "\n",
    "\n",
    "def checkRows(board):\n",
    "    n = len(board)\n",
    "\n",
    "    for i in range(n):\n",
    "        moves_p1 = 0\n",
    "        moves_p2 = 0\n",
    "        for j in range(n):\n",
    "            if board[i][j] == 1:\n",
    "                moves_p1 += 1\n",
    "            if board[i][j] == 2:\n",
    "                moves_p2 += 1\n",
    "\n",
    "        if moves_p1 == n:\n",
    "            return 1\n",
    "\n",
    "        if moves_p2 == n:\n",
    "            return 2\n",
    "    return -1\n",
    "\n",
    "\n",
    "def checkColumns(board):\n",
    "    n = len(board)\n",
    "\n",
    "    for i in range(n):\n",
    "        moves_p1 = 0\n",
    "        moves_p2 = 0\n",
    "        for j in range(n):\n",
    "            if board[j][i] == 1:\n",
    "                moves_p1 += 1\n",
    "            if board[j][i] == 2:\n",
    "                moves_p2 += 1\n",
    "\n",
    "        if moves_p1 == n:\n",
    "            return 1\n",
    "\n",
    "        if moves_p2 == n:\n",
    "            return 2\n",
    "    return -1\n",
    "\n",
    "\n",
    "def checkDiagonals(board):\n",
    "    n = len(board)\n",
    "    \n",
    "    # Top-left to bottom right diagonal\n",
    "    moves_p1 = 0\n",
    "    moves_p2 = 0\n",
    "    for i in range(n):\n",
    "        if board[i][i] == 1:\n",
    "            moves_p1 += 1\n",
    "        if board[i][i] == 2:\n",
    "            moves_p2 += 1\n",
    "\n",
    "    if moves_p1 == n:\n",
    "        return 1\n",
    "\n",
    "    if moves_p2 == n:\n",
    "        return 2\n",
    "    \n",
    "    \n",
    "    # Top-right to bottom-left diagonal\n",
    "    i = 0\n",
    "    j = n - 1\n",
    "    moves_p1 = 0\n",
    "    moves_p2 = 0\n",
    "    for c in range(n):\n",
    "        if board[i][j] == 1:\n",
    "            moves_p1 += 1\n",
    "        if board[i][j] == 2:\n",
    "            moves_p2 += 1\n",
    "\n",
    "        i += 1\n",
    "        j -= 1\n",
    "\n",
    "    if moves_p1 == n:\n",
    "        return 1\n",
    "\n",
    "    if moves_p2 == n:\n",
    "        return 2\n",
    "\n",
    "    return -1\n",
    "\n",
    "\n",
    "def checkForIncompleOrDraw(board):\n",
    "    zero_count = 0\n",
    "    moves_p1 = 0\n",
    "    moves_p2 = 0\n",
    "    n = len(board)\n",
    "    for i in range(n):\n",
    "        for j in range(n):\n",
    "            if board[i][j] == 0:\n",
    "                zero_count += 1\n",
    "            if board[i][j] == 1:\n",
    "                moves_p1 += 1\n",
    "            if board[i][j] == 2:\n",
    "                moves_p2 += 1\n",
    "\n",
    "    if moves_p1 == moves_p2 and zero_count == 0:\n",
    "        return 0\n",
    "    else:\n",
    "        return -1\n",
    "\n",
    "\n",
    "def tic_tac_toe(board):\n",
    "    current_player = -1\n",
    "    result = checkRows(board)\n",
    "    if result != current_player:\n",
    "        print(result_formatted[result])\n",
    "        return result\n",
    "\n",
    "    result = checkColumns(board)\n",
    "    if result != current_player:\n",
    "        print(result_formatted[result])\n",
    "        return result\n",
    "\n",
    "    result = checkDiagonals(board)\n",
    "    if result != current_player:\n",
    "        print(result_formatted[result])\n",
    "        return result\n",
    "\n",
    "    result = checkForIncompleOrDraw(board)\n",
    "    print(result_formatted[result])"
>>>>>>> 9e6e60c4719e848bc59d9091ae2b82f50e922c6a
   ]
  },
  {
   "cell_type": "code",
   "execution_count": null,
<<<<<<< HEAD
   "metadata": {
    "collapsed": true
   },
   "outputs": [],
   "source": [
    "# Test your solution here"
=======
   "metadata": {},
   "outputs": [],
   "source": [
    "# Test your solution here\n",
    "result = tic_tac_toe(winner_is_1)\n",
    "print result\n",
    "\n",
    "result = tic_tac_toe(winner_is_2)\n",
    "print result\n",
    "\n",
    "result = tic_tac_toe(winner_is_also_1)\n",
    "print result\n",
    "\n",
    "result = tic_tac_toe(no_winner)\n",
    "print result\n",
    "\n",
    "result = tic_tac_toe(also_no_winner)\n",
    "print result"
>>>>>>> 9e6e60c4719e848bc59d9091ae2b82f50e922c6a
   ]
  },
  {
   "cell_type": "markdown",
   "metadata": {},
   "source": [
    "*Exercise 12:* Modify exercise 10, so that it takes a matrix of the form from exercise 11 and draws a tic-tac-tie board with \"X\"s and \"O\"s.  "
   ]
  },
  {
   "cell_type": "code",
   "execution_count": null,
   "metadata": {
    "collapsed": true
   },
   "outputs": [],
   "source": [
<<<<<<< HEAD
    "# Write you solution here"
=======
    "# Write you solution here\n",
    "def draw_game_board(data,n):\n",
    "    lines = \" ---\"\n",
    "    bars = {0: \"|   \", 1: \"| X \", 2: \"| O \"}\n",
    "    for i in range(n):\n",
    "        line = \"\"\n",
    "        for j in range(n):\n",
    "            line += lines\n",
    "        print(line)\n",
    "        line = \"\"\n",
    "        for k in range(n):\n",
    "            line += bars[data[i][k]]\n",
    "        line += bars[0]\n",
    "        print(line)\n",
    "    print(lines * n)"
>>>>>>> 9e6e60c4719e848bc59d9091ae2b82f50e922c6a
   ]
  },
  {
   "cell_type": "code",
   "execution_count": null,
<<<<<<< HEAD
   "metadata": {
    "collapsed": true
   },
   "outputs": [],
   "source": [
    "# Test your solution here"
=======
   "metadata": {},
   "outputs": [],
   "source": [
    "# Test your solution here\n",
    "draw_game_board([[1, 2, 0, 1],\n",
    "                 [2, 1, 0, 0],\n",
    "                 [0, 2, 0, 2],\n",
    "                 [1, 2, 2, 1]], 4)"
>>>>>>> 9e6e60c4719e848bc59d9091ae2b82f50e922c6a
   ]
  },
  {
   "cell_type": "markdown",
   "metadata": {},
   "source": [
    "*Exercise 12:* Use the two previous exercises to implement a full tic-tac-toe game, where 2 players are repeatedly asked for x and y coordinates of where they wish to place a mark, an appropriate board is drawn, and the game status is checked until a player wins or a draw occurs."
   ]
  },
  {
   "cell_type": "code",
   "execution_count": null,
   "metadata": {
    "collapsed": true
   },
   "outputs": [],
   "source": [
<<<<<<< HEAD
    "# Write you solution here"
=======
    "# Write you solution here\n",
    "def draw_game_board(board, n):\n",
    "    lines = \" ---\"\n",
    "    bars = {0: \"|   \", 1: \"| X \", 2: \"| O \"}\n",
    "    tags = {}\n",
    "    \n",
    "    for i in range(n):\n",
    "        tags[i]=i\n",
    "\n",
    "    column_tag = \"     \"\n",
    "    for i in range(n):\n",
    "        column_tag += \"  \" + str(tags[i]) + \" \"\n",
    "    print(column_tag)\n",
    "\n",
    "    for i in range(n):\n",
    "        line = \"     \"\n",
    "        for j in range(n):\n",
    "            line += lines\n",
    "        print(line)\n",
    "        line = \"  \" + str(tags[i]) + \"  \"\n",
    "        for k in range(n):\n",
    "            line += bars[board[i][k]]\n",
    "        line += bars[0]\n",
    "        print(line)\n",
    "    print(\"     \" + lines * n)\n",
    "\n",
    "\n",
    "def isValidMove(move_x, move_y, board, size):\n",
    "    return move_x < size and move_y < size and board[move_x][move_y] == 0\n",
    "\n",
    "\n",
    "def checkForWin(board):\n",
    "    if checkRows(board) != -1 or checkColumns(board) != -1 or checkDiagonals(board) != -1:\n",
    "        return True\n",
    "    return False\n",
    "\n",
    "\n",
    "def game_loop():\n",
    "    size = 10\n",
    "    empty = 0\n",
    "    player_1 = 1\n",
    "    player_2 = 2\n",
    "\n",
    "    print(\"-*-\" * 5 + \"Welcome to Tic-Tac-Toe!\" + \"-*-\" * 5)\n",
    "    current_player = player_1\n",
    "    board = list()\n",
    "    for i in range(size):\n",
    "        board.append([empty] * size)\n",
    "\n",
    "    while True:\n",
    "        draw_game_board(board, size)\n",
    "        move = raw_input(\"Enter the co-ordinates(x,y) to place a mark: \")\n",
    "        move_x, move_y = move.strip().split(\",\")\n",
    "        move_x = int(move_x)\n",
    "        move_y = int(move_y)\n",
    "\n",
    "        if not isValidMove(move_x, move_y, board, size):\n",
    "            print(\"Invalid move! Please try again...\")\n",
    "            continue\n",
    "\n",
    "        board[move_x][move_y] = current_player\n",
    "\n",
    "        if checkForWin(board):\n",
    "            draw_game_board(board, size)\n",
    "            print(result_formatted[current_player])\n",
    "            break\n",
    "\n",
    "        if checkForDraw(board) == 0:\n",
    "            draw_game_board(board, size)\n",
    "            print(result_formatted[0])\n",
    "            break\n",
    "        \n",
    "        current_player = player_2 if current_player == player_1 else player_1\n",
    "\n",
    "\n",
    "result_formatted = {1: \"1 : Player-1 has won\", 2: \"2 : Player-2 has won\",\n",
    "                    -1: \"-1 : The game is incomplete\", 0: \"0 : Its a tie\"}\n",
    "\n",
    "\n",
    "def checkRows(board):\n",
    "    n = len(board)\n",
    "\n",
    "    for i in range(n):\n",
    "        moves_p1 = 0\n",
    "        moves_p2 = 0\n",
    "        for j in range(n):\n",
    "            if board[i][j] == 1:\n",
    "                moves_p1 += 1\n",
    "            if board[i][j] == 2:\n",
    "                moves_p2 += 1\n",
    "\n",
    "        if moves_p1 == n:\n",
    "            return 1\n",
    "\n",
    "        if moves_p2 == n:\n",
    "            return 2\n",
    "    return -1\n",
    "\n",
    "\n",
    "def checkColumns(board):\n",
    "    n = len(board)\n",
    "\n",
    "    for i in range(n):\n",
    "        moves_p1 = 0\n",
    "        moves_p2 = 0\n",
    "        for j in range(n):\n",
    "            if board[j][i] == 1:\n",
    "                moves_p1 += 1\n",
    "            if board[j][i] == 2:\n",
    "                moves_p2 += 1\n",
    "\n",
    "        if moves_p1 == n:\n",
    "            return 1\n",
    "\n",
    "        if moves_p2 == n:\n",
    "            return 2\n",
    "    return -1\n",
    "\n",
    "\n",
    "def checkDiagonals(board):\n",
    "    n = len(board)\n",
    "\n",
    "    # Top-left to bottom right diagonal\n",
    "    moves_p1 = 0\n",
    "    moves_p2 = 0\n",
    "    for i in range(n):\n",
    "        if board[i][i] == 1:\n",
    "            moves_p1 += 1\n",
    "        if board[i][i] == 2:\n",
    "            moves_p2 += 1\n",
    "\n",
    "    if moves_p1 == n:\n",
    "        return 1\n",
    "\n",
    "    if moves_p2 == n:\n",
    "        return 2\n",
    "\n",
    "    # Top-right to bottom-left diagonal\n",
    "    i = 0\n",
    "    j = n - 1\n",
    "    moves_p1 = 0\n",
    "    moves_p2 = 0\n",
    "    for c in range(n):\n",
    "        if board[i][j] == 1:\n",
    "            moves_p1 += 1\n",
    "        if board[i][j] == 2:\n",
    "            moves_p2 += 1\n",
    "\n",
    "        i += 1\n",
    "        j -= 1\n",
    "\n",
    "    if moves_p1 == n:\n",
    "        return 1\n",
    "\n",
    "    if moves_p2 == n:\n",
    "        return 2\n",
    "\n",
    "    return -1\n",
    "\n",
    "\n",
    "def checkForDraw(board):\n",
    "    player_moves = 0\n",
    "    n = len(board)\n",
    "    for i in range(n):\n",
    "        for j in range(n):\n",
    "            if board[i][j] != 0:\n",
    "                player_moves += 1\n",
    "\n",
    "    if player_moves == n * n:\n",
    "        return 0\n",
    "    else:\n",
    "        return -1"
>>>>>>> 9e6e60c4719e848bc59d9091ae2b82f50e922c6a
   ]
  },
  {
   "cell_type": "code",
   "execution_count": null,
<<<<<<< HEAD
   "metadata": {
    "collapsed": true
   },
   "outputs": [],
   "source": [
    "# Test your solution here"
=======
   "metadata": {},
   "outputs": [],
   "source": [
    "# Test your solution here\n",
    "game_loop()"
>>>>>>> 9e6e60c4719e848bc59d9091ae2b82f50e922c6a
   ]
  }
 ],
 "metadata": {
  "kernelspec": {
   "display_name": "Python 2",
   "language": "python",
   "name": "python2"
  },
  "language_info": {
   "codemirror_mode": {
    "name": "ipython",
    "version": 2
   },
   "file_extension": ".py",
   "mimetype": "text/x-python",
   "name": "python",
   "nbconvert_exporter": "python",
   "pygments_lexer": "ipython2",
   "version": "2.7.13"
  }
 },
 "nbformat": 4,
 "nbformat_minor": 2
}
