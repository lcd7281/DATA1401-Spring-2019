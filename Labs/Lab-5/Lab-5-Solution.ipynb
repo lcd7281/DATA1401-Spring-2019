{
 "cells": [
  {
   "cell_type": "markdown",
   "metadata": {},
   "source": [
    "# Lab 5\n",
    "\n",
    "\n",
    "1. Copy all of your Exam 1 answers into this notebook. If necessary, spend some time to complete and/or correct the functions.\n",
    "\n",
    "2. Following the example in lecture 11, create a matrix class that implements all of your matrix functions as methods. \n",
    "\n",
    "3. Overload the python built-in methods when appropriate, for exmaple matrix addition.\n",
    "\n",
    "4. Create a vector class that inherits from matrix and implements vector specific methods.\n"
   ]
  },
  {
   "cell_type": "code",
   "execution_count": 34,
   "metadata": {},
   "outputs": [],
   "source": [
    "class matrix:\n",
    "    def __init__(self, M):\n",
    "        self.M = M\n",
    "    def num_row(self):\n",
    "        r = len(self.M)\n",
    "        return r\n",
    "    def num_col(self):\n",
    "        c = len(self.M[0])\n",
    "        return c\n",
    "    def shape(self):\n",
    "        x = (self.num_row(),self.num_col())\n",
    "        return x\n",
    "    def nth_col(self,n):\n",
    "        out = []\n",
    "        for i in self.M:\n",
    "            r = i[n]\n",
    "            out.append(r)\n",
    "        return out\n",
    "    def nth_row(self,n):\n",
    "        c = self.M[n]\n",
    "        return c\n",
    "    def const(self,c):\n",
    "        list1 = list()\n",
    "        for row in range(self.num_row()):\n",
    "            list2 = []\n",
    "            for col in range(self.num_col()):\n",
    "                list2.append(float(c))\n",
    "            list1.append(list2)\n",
    "        return matrix(list1)\n",
    "    def zeros(self):\n",
    "        list3 = list()\n",
    "        for i in range(self.num_row()):\n",
    "            list3.append([])\n",
    "            for j in range(self.num_col()):\n",
    "                list3[-1].append(float(0))\n",
    "        return matrix(list3)\n",
    "    def ones(self):\n",
    "        list4 = list()\n",
    "        for i in range(self.num_row()):\n",
    "            list4.append([])\n",
    "            for j in range(self.num_col()):\n",
    "                list4[-1].append(float(1))\n",
    "        return matrix(list4)\n",
    "    def eye(self):\n",
    "        numCols = self.num_col()\n",
    "        iden=[[0 for x in range(numCols)] for y in range(numCols)]\n",
    "        for i in range(numCols):\n",
    "            iden[i][i] = 1\n",
    "        return iden\n",
    "    def transpose(self):\n",
    "        t = []\n",
    "        for i in range(self.num_col()):\n",
    "            cv = []\n",
    "            for j in range(self.num_row()):\n",
    "                cv.append(self.M[j][i])\n",
    "                j = j + 1\n",
    "            t.append(cv)\n",
    "            i = i + 1\n",
    "        return matrix(t)\n",
    "    def scalarmult(self,c):\n",
    "        t = []\n",
    "        for i in range(self.num_row()):\n",
    "            cv = []\n",
    "            for j in range(self.num_col()):\n",
    "                cv.append(c*self.M[i][j])\n",
    "                j = j + 1\n",
    "            t.append(cv)\n",
    "            i = i + 1\n",
    "        return matrix(t)\n",
    "    def add(self, N):\n",
    "        if self.shape() != N.shape():\n",
    "            print \"Can not add matrices with different sizes!\" \n",
    "        t = []\n",
    "        for i in range(self.num_row()):\n",
    "            cv = []\n",
    "            for j in range(self.num_col()):\n",
    "                cv.append(N.M[i][j]+self.M[i][j])\n",
    "                j = j + 1\n",
    "            t.append(cv)\n",
    "            i = i + 1\n",
    "        return matrix(t)\n",
    "    def sub(self, M):\n",
    "        s = M.scalarmult(-1)\n",
    "        a = self.add(s)\n",
    "        return a\n",
    "    def matmult(self, N):\n",
    "        m = []\n",
    "        for i in range(self.num_row()):\n",
    "            cv = []\n",
    "            for j in range(N.num_col()):\n",
    "                sum = 0\n",
    "                for k in range(N.num_row()):\n",
    "                    sum+= self.M[i][k]*N.M[k][j]\n",
    "                cv.append(sum)\n",
    "            m.append(cv)\n",
    "        return matrix(m) \n",
    "    def inv(self):\n",
    "        #2x2 case\n",
    "        # 1. It has to be a square matrix \n",
    "        def squarematrix(self):\n",
    "            if self.num_row()==self.num_col():\n",
    "                return self.M\n",
    "            else:\n",
    "                print(\"Not a square matrix. Inverse may not exist\")\n",
    "        #2. The determinant canot equal 0\n",
    "        def determinant(self):\n",
    "            if self.num_row==2 and self.num_col==2:\n",
    "                det = (self.M[0][0]*self.M[1][1])-(self.M[0][1]*self.M[1][0])\n",
    "                elif det == 0:\n",
    "                    print(\"Determinant is 0. Inverse does not exist\")\n",
    "            else:\n",
    "                return [[m[1][1]/det, -1*m[0][1]/det],\n",
    "                [-1*m[1][0]/det, m[0][0]/det]]\n",
    "        #case for non 2x2 matrix \n",
    "    def norm(self,n):\n",
    "        \n",
    "class vector(matrix):\n",
    "    def __init__(self,V):\n",
    "        self.V = V\n",
    "    def dot(self,B):\n",
    "        d = []\n",
    "        for i in self.M:\n",
    "            cv = []\n",
    "            for j in range(V.M):\n",
    "\n",
    "    def outer(self,B):\n",
    "        "
   ]
  },
  {
   "cell_type": "code",
   "execution_count": 10,
   "metadata": {},
   "outputs": [
    {
     "name": "stdout",
     "output_type": "stream",
     "text": [
      "2\n"
     ]
    }
   ],
   "source": [
    "a = matrix([[4,2],[1,2]])\n",
    "print a.num_row()\n"
   ]
  },
  {
   "cell_type": "code",
   "execution_count": 11,
   "metadata": {},
   "outputs": [
    {
     "name": "stdout",
     "output_type": "stream",
     "text": [
      "2\n"
     ]
    }
   ],
   "source": [
    "a = matrix([[4,2],[1,2]])\n",
    "print a.num_col()\n"
   ]
  },
  {
   "cell_type": "code",
   "execution_count": 13,
   "metadata": {},
   "outputs": [
    {
     "name": "stdout",
     "output_type": "stream",
     "text": [
      "(2, 2)\n"
     ]
    }
   ],
   "source": [
    "a = matrix([[4,2],[1,2]])\n",
    "print a.shape()\n"
   ]
  },
  {
   "cell_type": "code",
   "execution_count": 14,
   "metadata": {},
   "outputs": [
    {
     "name": "stdout",
     "output_type": "stream",
     "text": [
      "[4, 1]\n"
     ]
    }
   ],
   "source": [
    "a = matrix([[4,2],[1,2]])\n",
    "print a.nth_col(0)"
   ]
  },
  {
   "cell_type": "code",
   "execution_count": 15,
   "metadata": {},
   "outputs": [
    {
     "name": "stdout",
     "output_type": "stream",
     "text": [
      "[4, 2]\n"
     ]
    }
   ],
   "source": [
    "a = matrix([[4,2],[1,2]])\n",
    "print a.nth_row(0)"
   ]
  },
  {
   "cell_type": "code",
   "execution_count": 17,
   "metadata": {},
   "outputs": [
    {
     "data": {
      "text/plain": [
       "[[2.0, 2.0], [2.0, 2.0]]"
      ]
     },
     "execution_count": 17,
     "metadata": {},
     "output_type": "execute_result"
    }
   ],
   "source": [
    "a = matrix([[4,2],[1,2]])\n",
    "b = a.const(2)\n",
    "b.M"
   ]
  },
  {
   "cell_type": "code",
   "execution_count": 18,
   "metadata": {},
   "outputs": [
    {
     "data": {
      "text/plain": [
       "[[0.0, 0.0], [0.0, 0.0]]"
      ]
     },
     "execution_count": 18,
     "metadata": {},
     "output_type": "execute_result"
    }
   ],
   "source": [
    "a = matrix([[4,2],[1,2]])\n",
    "b = a.zeros()\n",
    "b.M"
   ]
  },
  {
   "cell_type": "code",
   "execution_count": 19,
   "metadata": {},
   "outputs": [
    {
     "data": {
      "text/plain": [
       "[[1.0, 1.0], [1.0, 1.0]]"
      ]
     },
     "execution_count": 19,
     "metadata": {},
     "output_type": "execute_result"
    }
   ],
   "source": [
    "a = matrix([[4,2],[1,2]])\n",
    "b = a.ones()\n",
    "b.M"
   ]
  },
  {
   "cell_type": "code",
   "execution_count": 23,
   "metadata": {},
   "outputs": [
    {
     "name": "stdout",
     "output_type": "stream",
     "text": [
      "[[1, 0], [0, 1]]\n"
     ]
    }
   ],
   "source": [
    "a = matrix([[4,2],[1,2]])\n",
    "print a.eye()"
   ]
  },
  {
   "cell_type": "code",
   "execution_count": 26,
   "metadata": {},
   "outputs": [
    {
     "data": {
      "text/plain": [
       "[[4, 1], [2, 2]]"
      ]
     },
     "execution_count": 26,
     "metadata": {},
     "output_type": "execute_result"
    }
   ],
   "source": [
    "a = matrix([[4,2],[1,2]])\n",
    "b = a.transpose()\n",
    "b.M"
   ]
  },
  {
   "cell_type": "code",
   "execution_count": 27,
   "metadata": {},
   "outputs": [
    {
     "data": {
      "text/plain": [
       "[[8, 4], [2, 4]]"
      ]
     },
     "execution_count": 27,
     "metadata": {},
     "output_type": "execute_result"
    }
   ],
   "source": [
    "a = matrix([[4,2],[1,2]])\n",
    "b = a.scalarmult(2)\n",
    "b.M"
   ]
  },
  {
   "cell_type": "code",
   "execution_count": 82,
   "metadata": {},
   "outputs": [
    {
     "data": {
      "text/plain": [
       "[[-1, -1, -1], [0, -1, -2]]"
      ]
     },
     "execution_count": 82,
     "metadata": {},
     "output_type": "execute_result"
    }
   ],
   "source": [
    "a = matrix([[1, 2, 3],[4, 5, 6]])\n",
    "b = a.add(matrix([[-2, -3, -4],[-4, -6, -8]]))\n",
    "b.M"
   ]
  },
  {
   "cell_type": "code",
   "execution_count": 28,
   "metadata": {},
   "outputs": [
    {
     "data": {
      "text/plain": [
       "[[3, 5, 7], [8, 11, 14]]"
      ]
     },
     "execution_count": 28,
     "metadata": {},
     "output_type": "execute_result"
    }
   ],
   "source": [
    "a = matrix([[1, 2, 3],[4, 5, 6]])\n",
    "b = a.sub(matrix([[-2, -3, -4],[-4, -6, -8]]))\n",
    "b.M"
   ]
  },
  {
   "cell_type": "code",
   "execution_count": 90,
   "metadata": {
    "scrolled": true
   },
   "outputs": [
    {
     "data": {
      "text/plain": [
       "[[68, 88, 102], [33, 41, 36]]"
      ]
     },
     "execution_count": 90,
     "metadata": {},
     "output_type": "execute_result"
    }
   ],
   "source": [
    "a = matrix([[4,2,14],[3,0,5]])\n",
    "b = a.matmult(matrix([[6,7,2],[1,2,5],[3,4,6]]))\n",
    "b.M"
   ]
  },
  {
   "cell_type": "code",
   "execution_count": 36,
   "metadata": {},
   "outputs": [
    {
     "ename": "TypeError",
     "evalue": "list indices must be integers, not tuple",
     "output_type": "error",
     "traceback": [
      "\u001b[0;31m\u001b[0m",
      "\u001b[0;31mTypeError\u001b[0mTraceback (most recent call last)",
      "\u001b[0;32m<ipython-input-36-ac6c057263e7>\u001b[0m in \u001b[0;36m<module>\u001b[0;34m()\u001b[0m\n\u001b[0;32m----> 1\u001b[0;31m \u001b[0ma\u001b[0m \u001b[0;34m=\u001b[0m \u001b[0mmatrix\u001b[0m\u001b[0;34m(\u001b[0m\u001b[0;34m[\u001b[0m\u001b[0;34m[\u001b[0m\u001b[0;36m1\u001b[0m\u001b[0;34m,\u001b[0m\u001b[0;36m0\u001b[0m\u001b[0;34m]\u001b[0m\u001b[0;34m[\u001b[0m\u001b[0;36m2\u001b[0m\u001b[0;34m,\u001b[0m\u001b[0;36m4\u001b[0m\u001b[0;34m]\u001b[0m\u001b[0;34m]\u001b[0m\u001b[0;34m)\u001b[0m\u001b[0;34m\u001b[0m\u001b[0m\n\u001b[0m\u001b[1;32m      2\u001b[0m \u001b[0;32mprint\u001b[0m \u001b[0ma\u001b[0m\u001b[0;34m.\u001b[0m\u001b[0minv\u001b[0m\u001b[0;34m(\u001b[0m\u001b[0;34m)\u001b[0m\u001b[0;34m\u001b[0m\u001b[0m\n",
      "\u001b[0;31mTypeError\u001b[0m: list indices must be integers, not tuple"
     ]
    }
   ],
   "source": [
    "a = matrix([[1,0][2,4]])\n",
    "print a.inv()"
   ]
  }
 ],
 "metadata": {
  "kernelspec": {
   "display_name": "Python 2",
   "language": "python",
   "name": "python2"
  },
  "language_info": {
   "codemirror_mode": {
    "name": "ipython",
    "version": 2
   },
   "file_extension": ".py",
   "mimetype": "text/x-python",
   "name": "python",
   "nbconvert_exporter": "python",
   "pygments_lexer": "ipython2",
   "version": "2.7.15"
  }
 },
 "nbformat": 4,
 "nbformat_minor": 2
}
