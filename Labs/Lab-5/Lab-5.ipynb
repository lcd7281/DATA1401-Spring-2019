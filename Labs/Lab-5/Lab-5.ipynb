{
 "cells": [
  {
   "cell_type": "markdown",
   "metadata": {},
   "source": [
    "# Lab 5\n",
    "\n",
    "\n",
    "1. Copy all of your Exam 1 answers into this notebook. If necessary, spend some time to complete and/or correct the functions.\n",
    "\n",
    "2. Following the example in lecture 11, create a matrix class that implements all of your matrix functions as methods. \n",
    "\n",
    "3. Overload the python built-in methods when appropriate, for exmaple matrix addition.\n",
    "\n",
    "4. Create a vector class that inherits from matrix and implements vector specific methods.\n"
   ]
  },
  {
   "cell_type": "code",
   "execution_count": null,
   "metadata": {
    "collapsed": true
   },
   "outputs": [],
   "source": []
  }
 ],
 "metadata": {
  "kernelspec": {
   "display_name": "Python 2",
   "language": "python",
   "name": "python2"
  },
  "language_info": {
   "codemirror_mode": {
    "name": "ipython",
    "version": 2
   },
   "file_extension": ".py",
   "mimetype": "text/x-python",
   "name": "python",
   "nbconvert_exporter": "python",
   "pygments_lexer": "ipython2",
   "version": "2.7.10"
  }
 },
 "nbformat": 4,
 "nbformat_minor": 2
}
