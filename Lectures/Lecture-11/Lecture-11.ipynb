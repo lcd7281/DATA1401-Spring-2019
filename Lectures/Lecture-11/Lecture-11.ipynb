{
 "cells": [
  {
   "cell_type": "markdown",
   "metadata": {},
   "source": [
    "# Lecture 11- Object Oriented Programming\n",
    "\n",
    "\n",
    "## Motivation\n",
    "\n",
    "You are used to data types like strings and floats and the operations you can do on them, for example\n",
    "\n",
    "    1.0 + 2.5 → 3.5\n",
    "    “Hello” + “ “ + “World” → “Hello World”\n",
    "   \n",
    "What if you wanted new type of data with operations that are unique to it? For example the Matrices in your exam? For example:\n",
    "\n",
    "\\begin{equation}\n",
    "\\begin{pmatrix} 1 & 2 \\\\ 2 & 3 \\end{pmatrix} + \\begin{pmatrix}3 & 2 \\\\ 2 & 1 \\end{pmatrix} →\n",
    "\\begin{pmatrix}\n",
    "4 & 4 \\\\\n",
    "4 & 4\n",
    "\\end{pmatrix}\n",
    "\\end{equation}\n",
    "\n",
    "## Object Oriented Programming\n",
    "\n",
    "Combine data and the operations into a new concept called an object. An object\n",
    "   * has a *type* referred to as a **class**, analogous to “float” or “string”.\n",
    "   * holds *data* in form of fields or **attributes**. \n",
    "   * holds *code* in form of **methods**.\n",
    "\n",
    "For example, lets say we want to keep information on students in this class for computing grades. We can create a new class of object called a “student”:\n",
    "\n",
    "   * **Attributes**: name, id number, gender, year, grades, …\n",
    "   * **Methods**: add_grade, average_grade, …\n",
    "   \n",
    "In python, here's an example creating such a class:\n"
   ]
  },
  {
   "cell_type": "code",
   "execution_count": 1,
   "metadata": {},
   "outputs": [],
   "source": [
    "class student:\n",
    "    name=str()\n",
    "    id_number=int()\n",
    "    gender=str()\n",
    "    year=int()\n",
    "    grades=list()\n",
    "    \n",
    "    def add_grade(self,grade):\n",
    "        self.grades.append(grade)\n",
    "        \n",
    "    def average_grade(self):\n",
    "        return sum(self.grades)/len(self.grade)"
   ]
  },
  {
   "cell_type": "markdown",
   "metadata": {},
   "source": [
    "Any given student is an instance of the student class.  Note that `self` is how we refer to data or methods of the class itself."
   ]
  },
  {
   "cell_type": "code",
   "execution_count": 2,
   "metadata": {},
   "outputs": [
    {
     "name": "stdout",
     "output_type": "stream",
     "text": [
      "The student class: <type 'classobj'>\n",
      "The student instance: <type 'instance'>\n"
     ]
    }
   ],
   "source": [
    "a_student=student()\n",
    "\n",
    "print \"The student class:\", type(student)\n",
    "print \"The student instance:\", type(a_student)"
   ]
  },
  {
   "cell_type": "markdown",
   "metadata": {},
   "source": [
    "Why would such a construction be helpful? An alternative way of keeping all doing all of the book-keeping for the students would have been to create a bunch of lists for each of the attributes and make sure that the first student's information is always at index 0, second student index 1, and so on. \n",
    "\n",
    "For exmaple:"
   ]
  },
  {
   "cell_type": "code",
   "execution_count": null,
   "metadata": {},
   "outputs": [],
   "source": [
    "names=list()\n",
    "id_numbers=list()\n",
    "genders=list()\n",
    "years=list()\n",
    "grades=list()\n",
    "\n",
    "# Create an \"instance\" of a student\n",
    "\n",
    "names.append(str())\n",
    "id_number.append(int())\n",
    "genders.append(str())\n",
    "years.append(str())\n",
    "grades.append(list())"
   ]
  },
  {
   "cell_type": "markdown",
   "metadata": {},
   "source": [
    "We could write functions to help make all of this look nicer, but it would be cumbersome to manage and ugly to read.\n",
    "\n",
    "## Constructor / Destructor\n",
    "\n",
    "We created an instance of student in the example above, but we didn't take care to carefully make sure all that the student instance was carefully setup. The first important OO concept are **constructors** and **destructors**. These are optional methods that are called when an object is created or destroyed. Since python manages memory for us, we typically don't need to implement destructors, but constructors are always a good idea. \n",
    "\n",
    "In python the names of build-in methods of classes typically start and end with 2 underscores. `__init__(self,...)` and `__del__(self)` are class constructor and destructors, respectively. \n",
    "\n",
    "For example:"
   ]
  },
  {
   "cell_type": "code",
   "execution_count": 3,
   "metadata": {},
   "outputs": [],
   "source": [
    "class student:\n",
    "    def __init__(self, name, id_number, gender, year):\n",
    "        self.name=name\n",
    "        self.id_number=id_number\n",
    "        self.gender=gender\n",
    "        self.year=year\n",
    "        self.grades=list()\n",
    "    \n",
    "    def add_grade(self,grade):\n",
    "        self.grades.append(grade)\n",
    "        \n",
    "    def average_grade(self):\n",
    "        return sum(self.grades)/len(self.grades)\n",
    "    \n",
    "    def print_grades(self):\n",
    "        for grade in self.grades:\n",
    "            print grade\n",
    "            "
   ]
  },
  {
   "cell_type": "markdown",
   "metadata": {},
   "source": [
    "Now when you instantiate a student you would do:"
   ]
  },
  {
   "cell_type": "code",
   "execution_count": 4,
   "metadata": {},
   "outputs": [
    {
     "name": "stdout",
     "output_type": "stream",
     "text": [
      "85\n",
      "90\n",
      "Average: 87\n"
     ]
    }
   ],
   "source": [
    "a_student=student(\"John Doe\", 111, \"Male\", 0)\n",
    "\n",
    "a_student.add_grade(85)\n",
    "a_student.add_grade(90)\n",
    "\n",
    "a_student.print_grades()\n",
    "\n",
    "print \"Average:\", a_student.average_grade()\n"
   ]
  },
  {
   "cell_type": "markdown",
   "metadata": {},
   "source": [
    "And you can keep all of the information for all of your students in a list:"
   ]
  },
  {
   "cell_type": "code",
   "execution_count": 5,
   "metadata": {},
   "outputs": [
    {
     "name": "stdout",
     "output_type": "stream",
     "text": [
      "Name: John Doe\n",
      "Name: Jane Doe\n"
     ]
    }
   ],
   "source": [
    "students=list()\n",
    "\n",
    "students.append(student(\"John Doe\", 111, \"Male\", 0))\n",
    "students.append(student(\"Jane Doe\", 112, \"Female\", 0))\n",
    "\n",
    "for student in students:\n",
    "    print \"Name:\", student.name\n"
   ]
  },
  {
   "cell_type": "markdown",
   "metadata": {},
   "source": [
    "There are lots of built-in methods for classes, some of which have default implementations that you can **overload**, others that you can optionally implement. For example, if you have objects that you want python to know how to add, you can implement `__add__(self,other)` method."
   ]
  },
  {
   "cell_type": "markdown",
   "metadata": {},
   "source": [
    "## Inheritance\n",
    "\n",
    "A powerful feature of object-oriented programming is inheritance, which allows you to build a hierarchy of classes. For example what if we wanted to keep track of students and faculty at the University. There would be some aspects of students and faculty that would be in common, while other would be different. We can store the common atrributes and methods in a common class called \"person\" that both \"student\" and \"faculty\" **inherit** from. \n",
    "\n",
    "For example:\n"
   ]
  },
  {
   "cell_type": "code",
   "execution_count": null,
   "metadata": {},
   "outputs": [],
   "source": [
    "class person:\n",
    "    def __init__(self, name, id_number, gender):\n",
    "        self.name=name\n",
    "        self.id_number=id_number\n",
    "        self.gender=gender\n",
    "    \n",
    "    \n",
    "class student(person):\n",
    "    def __init__(self, name, id_number, gender, year):\n",
    "        super(student,self).__init__(name,id_number,gender)\n",
    "        self.year=year\n",
    "        self.grades=list()\n",
    "    \n",
    "    def add_grade(self,grade):\n",
    "        self.grades.append(grade)\n",
    "        \n",
    "    def average_grade(self):\n",
    "        return sum(self.grades)/len(self.grades)\n",
    "    \n",
    "    def print_grades(self):\n",
    "        for grade in self.grades:\n",
    "            print grade\n",
    "\n",
    "            \n",
    "class faculty(person):\n",
    "    def __init__(self, name, id_number, gender):\n",
    "        super(faculty,self).__init__(name,id_number,gender)\n",
    "        self.courses=list()\n",
    "    \n",
    "    def add_courses(self,course):\n",
    "        self.grades.append(course)\n",
    "        \n",
    "    def print_courses(self):\n",
    "        for courses in self.courses:\n",
    "            print course\n",
    "\n"
   ]
  },
  {
   "cell_type": "markdown",
   "metadata": {},
   "source": [
    "## Compete Example\n",
    "\n",
    "Let's try to do something more meaningful and introduce some particle physics basics. In relativistic mechanics, the Energy and Momentum of particles are different in every frame, but obey $m^2=E^2-\\vec{p}^2$ or $E^2=\\vec{p}^2$ for massless particles, where we set the speed of light $c=1$. It is therefore convenient to express the Energy and Momentum of a particle as a 4-vector, for example in Euclidean coordiates: $p= (E,p_{x},p_{y},p_{z}) = (E,\\vec{p})$.\n",
    "\n",
    "Energy and momentum are concerved with a particle decays into two other particles, for example a $Z$ boson to two electrons, $Z\\rightarrow e^+ e^-$, or a Higgs Boson to two photons, $H\\rightarrow \\gamma\\gamma$. In 4-vectors we can express conservations, for example in the Higgs decay, as $p_H = p_{\\gamma1}+p_{\\gamma2}$. In a two body decay, it's easy to fully solve for the momenta daughter particles in the rest frame of the parent:\n",
    "\n",
    "$$\n",
    "m_H = 125 GeV\\\\\n",
    "p_H = (m_{H},0,0,0)\n",
    "$$\n",
    "\n",
    "Momentum conservation tells us that $\\vec{p_{H}} = 0 = \\vec{p_{\\gamma1}} + \\vec{p_{\\gamma2}} \\Rightarrow \\vec{p_{\\gamma1}} = - \\vec{p_{\\gamma2}} = p_\\gamma$, i.e. the daughters travel in opposite directions. The 4-vector of the photons are\n",
    "\n",
    "$$\n",
    "E_H = m_H = E_{\\gamma1}+E_{\\gamma2} = |\\vec{p_{\\gamma1}}| + |\\vec{p_{\\gamma2}}|=2|p_\\gamma|\\\\\n",
    "\\Rightarrow p_{\\gamma1}= (m_H/2, \\vec{p_{\\gamma}})\\\\\n",
    "\\Rightarrow p_{\\gamma2}= (m_H/2, -\\vec{p_{\\gamma}})\n",
    "$$\n",
    "\n",
    "If we select that direction to be aligned with one of our axes, then we can write:\n",
    "$$\n",
    "p_{\\gamma1}= (m_H/2, 0,0, m_H/2)\\\\\n",
    "p_{\\gamma2}= (m_H/2, 0,0, -m_H/2).\n",
    "$$\n",
    "\n",
    "We can compute these 4-vectors in the case that the parent particle is not at rest by relavistic boosting. \n",
    "\n",
    "We will begin by representing 4-vectors as python lists. For example the first photon in the rest frame can be written as:"
   ]
  },
  {
   "cell_type": "code",
   "execution_count": 6,
   "metadata": {},
   "outputs": [
    {
     "name": "stdout",
     "output_type": "stream",
     "text": [
      "[62.5, 0, 0, 62.5]\n"
     ]
    }
   ],
   "source": [
    "m_H= 125.\n",
    "p_g1= [m_H/2,0,0,m_H/2]\n",
    "print p_g1"
   ]
  },
  {
   "cell_type": "markdown",
   "metadata": {},
   "source": [
    "To get the second photon, lets write a function that negates 4-vectors:"
   ]
  },
  {
   "cell_type": "code",
   "execution_count": 7,
   "metadata": {},
   "outputs": [
    {
     "name": "stdout",
     "output_type": "stream",
     "text": [
      "[62.5, 0, 0, -62.5]\n"
     ]
    }
   ],
   "source": [
    "def neg_4v(p):\n",
    "    return [p[0], -p[1],  -p[2] , -p[3]]\n",
    "\n",
    "p_g2=neg_4v(p_g1)\n",
    "print p_g2"
   ]
  },
  {
   "cell_type": "markdown",
   "metadata": {},
   "source": [
    "Other useful functions:"
   ]
  },
  {
   "cell_type": "code",
   "execution_count": 8,
   "metadata": {},
   "outputs": [
    {
     "name": "stdout",
     "output_type": "stream",
     "text": [
      "Sum: [125.0, 0, 0, 0.0]\n",
      "Difference: [125.0, 0, 0, 125.0]\n"
     ]
    }
   ],
   "source": [
    "def add_v4(p1,p2):\n",
    "    return [p1[0]+p2[0], p1[1]+p2[1],  p1[2]+p2[2] , p1[3]+p2[3]]\n",
    "\n",
    "def sub_v4(p1,p2):\n",
    "    return add_v4(p1,neg_4v(p2))\n",
    "\n",
    "print \"Sum:\", add_v4(p_g1,p_g2)\n",
    "print \"Difference:\", sub_v4(p_g1,p_g2)"
   ]
  },
  {
   "cell_type": "code",
   "execution_count": 9,
   "metadata": {},
   "outputs": [
    {
     "name": "stdout",
     "output_type": "stream",
     "text": [
      "Dot: 88.3883476483\n",
      "Gamma Mass: 0.0\n",
      "Higgs Mass: 125.0\n"
     ]
    }
   ],
   "source": [
    "import math\n",
    "\n",
    "def dot_v4(p1,p2):\n",
    "    return math.sqrt(sum([p1[0]*p2[0], -p1[1]*p2[1],  -p1[2]*p2[2] , -p1[3]*p2[3]]))\n",
    "\n",
    "def mass_v4(p):\n",
    "    return dot_v4(p,p)\n",
    "    \n",
    "print \"Dot:\", dot_v4(p_g1,p_g2)\n",
    "print \"Gamma Mass:\", mass_v4(p_g1)\n",
    "print \"Higgs Mass:\", mass_v4(add_v4(p_g1,p_g2))"
   ]
  },
  {
   "cell_type": "markdown",
   "metadata": {},
   "source": [
    "There are lots of ways to write the same thing, for example:"
   ]
  },
  {
   "cell_type": "code",
   "execution_count": 11,
   "metadata": {},
   "outputs": [
    {
     "name": "stdout",
     "output_type": "stream",
     "text": [
      "zip: [(62.5, 62.5), (0, 0), (0, 0), (62.5, -62.5)]\n",
      "Sum: [125.0, 0, 0, 0.0]\n"
     ]
    }
   ],
   "source": [
    "def add_v4_1(p1,p2):\n",
    "    out=list()\n",
    "    for i in range(4):\n",
    "        out.append(p1[i]+p2[i])\n",
    "    return out\n",
    "\n",
    "def add_v4_2(p1,p2):\n",
    "    return map(lambda x: x[0]+x[1],zip(p1,p2))\n",
    "\n",
    "def add_v4_3(p1,p2):\n",
    "    return [sum(x) for x in zip(p1,p2)]\n",
    "\n",
    "print \"zip:\", zip(p_g1,p_g2)\n",
    "\n",
    "print \"Sum:\", add_v4_3(p_g1,p_g2)"
   ]
  },
  {
   "cell_type": "code",
   "execution_count": 12,
   "metadata": {},
   "outputs": [],
   "source": [
    "def boost_matrix(beta_in):\n",
    "    Lambda= [[0,0,0,0],\n",
    "             [0,0,0,0],\n",
    "             [0,0,0,0],\n",
    "             [0,0,0,0]]\n",
    "    \n",
    "    beta=[0]+beta_in\n",
    "\n",
    "    beta2=sum(x**2 for x in beta)\n",
    "    gamma=1./math.sqrt(1.-beta2)\n",
    "    \n",
    "    for i in range(4):\n",
    "        for j in range(4):\n",
    "            if j==0:\n",
    "                Lambda[i][0]=-gamma*beta[i]\n",
    "            elif i==0:\n",
    "                Lambda[0][j]=-gamma*beta[j]\n",
    "            else:\n",
    "                Lambda[i][j]= (gamma-1)*beta[i]*beta[j]/beta2 + float(i==j)\n",
    "\n",
    "    Lambda[0][0]=gamma\n",
    "\n",
    "    return Lambda\n",
    "                \n",
    "def boost(p,beta):\n",
    "    Lambda=boost_matrix(beta)\n",
    "    out=4*[0.]\n",
    "    for j in range(4):\n",
    "        out[j]=sum(map(lambda x: x[0]*x[1],zip(p,Lambda[j])))\n",
    "    return out\n",
    "\n",
    "def decay(p):\n",
    "    m=mass_v4(p)\n",
    "    p1=[m/2.,0.,0.,m/2.]\n",
    "    p2=[m/2.,0.,0.,-m/2.]\n",
    "    # We should now rotate by 2 arbitrary angles...\n",
    "    beta=[p[1]/p[0],p[2]/p[0],p[3]/p[0]]\n",
    "    \n",
    "    p1b=boost(p1,beta)\n",
    "    p2b=boost(p2,beta)\n",
    "\n",
    "    return p1b,p2b\n"
   ]
  },
  {
   "cell_type": "code",
   "execution_count": 13,
   "metadata": {},
   "outputs": [
    {
     "name": "stdout",
     "output_type": "stream",
     "text": [
      "Boosted Higgs: [144.33756729740645, 0.0, -72.16878364870323, 0.0]\n",
      "Mass of Boosted Higgs: 125.0\n",
      "Higgs from daughters: [144.33756729740648, 0.0, 72.16878364870324, 0.0]\n",
      "Higgs mass from daughters: 125.0\n"
     ]
    }
   ],
   "source": [
    "# Start with a Higgs at rest\n",
    "p_H=[m_H,0.,0.,0.]\n",
    "\n",
    "# Now boost it (along y for example)\n",
    "p_Hb=boost(p_H,[0.,.5,0.])\n",
    "print \"Boosted Higgs:\", p_Hb\n",
    "print \"Mass of Boosted Higgs:\", mass_v4(p_Hb)\n",
    "\n",
    "# Decay the boosted Higgs\n",
    "p1,p2=decay(p_Hb)\n",
    "\n",
    "# Make sure the decay products add back to the Higgs\n",
    "print \"Higgs from daughters:\", add_v4(p1,p2)\n",
    "print \"Higgs mass from daughters:\", mass_v4(add_v4(p1,p2))\n"
   ]
  },
  {
   "cell_type": "markdown",
   "metadata": {},
   "source": [
    "Lets write a function that gives us the 4-vectors of 2 daughter particles given a parent particle 4 vector."
   ]
  },
  {
   "cell_type": "markdown",
   "metadata": {},
   "source": [
    "## Object Oriented Programming\n",
    "\n",
    "Lets write a 4-vector class to do the same thing:"
   ]
  },
  {
   "cell_type": "code",
   "execution_count": 16,
   "metadata": {},
   "outputs": [
    {
     "name": "stdout",
     "output_type": "stream",
     "text": [
      "\n"
     ]
    }
   ],
   "source": [
    "class four_vector(object):\n",
    "    def __init__(self, p=None):\n",
    "        if p:\n",
    "            self.v=p\n",
    "        else:\n",
    "            self.v=[0.,0.,0.,0.]\n",
    "\n",
    "    def setval(self,l):\n",
    "        self.v=l\n",
    "            \n",
    "    def __add__(self,other):\n",
    "        return four_vector([sum(x) for x in zip(self.v,other)])\n",
    "    \n",
    "    def neg(self,p):\n",
    "        return four_vector([p[0], -p[1],  -p[2] , -p[3]])\n",
    "\n",
    "    def __sub__(self,other):\n",
    "        return self.__add__(self.v,self.neg(other))\n",
    "  \n",
    "    def __mul__(self,other):\n",
    "        return math.sqrt(sum([self.v[0]*other[0], \n",
    "                              -self.v[1]*other[1],\n",
    "                              -self.v[2]*other[2],\n",
    "                              -self.v[3]*other[3]]))\n",
    "\n",
    "    def boost(self,beta):\n",
    "        Lambda=boost_matrix(beta)\n",
    "        out=4*[0.]\n",
    "        for j in range(4):\n",
    "            out[j]=sum(map(lambda x: x[0]*x[1],zip(self.v,Lambda[j])))\n",
    "        return four_vector(out)\n",
    "\n",
    "    def mass(self):\n",
    "        return self.__mul__(self.v)\n",
    "\n",
    "    def __getitem__(self,i):\n",
    "        return self.v[i]\n",
    "\n",
    "    \n",
    "    def __str__(self):\n",
    "        return \"({0}, {1}, {2}, {3})\".format(self.v[0],self.v[1],self.v[2],self.v[3])\n",
    "\n",
    "\n",
    "        "
   ]
  },
  {
   "cell_type": "code",
   "execution_count": 17,
   "metadata": {},
   "outputs": [],
   "source": [
    "def decay(p):\n",
    "    m=p.mass()\n",
    "    p1=four_vector([m/2.,0.,0.,m/2.])\n",
    "    p2=four_vector([m/2.,0.,0.,-m/2.])\n",
    "    # We should now rotate by 2 arbitrary angles...\n",
    "    beta=[p[1]/p[0],p[2]/p[0],p[3]/p[0]]\n",
    "    \n",
    "    p1b=p1.boost(beta)\n",
    "    p2b=p2.boost(beta)\n",
    "\n",
    "    return p1b,p2b\n",
    "\n"
   ]
  },
  {
   "cell_type": "code",
   "execution_count": 18,
   "metadata": {},
   "outputs": [
    {
     "name": "stdout",
     "output_type": "stream",
     "text": [
      "Initial Higgs: (125.0, 0.0, 0.0, 0.0)\n",
      "Boosted Higgs: (144.337567297, 0.0, -72.1687836487, 0.0)\n",
      "Mass of Boosted Higgs: 125.0\n",
      "Higgs from daughters: (144.337567297, 0.0, 72.1687836487, 0.0)\n",
      "Higgs mass from daughters: 125.0\n"
     ]
    }
   ],
   "source": [
    "# Start with a Higgs at rest\n",
    "p_H=four_vector([m_H,0.,0.,0.])\n",
    "print \"Initial Higgs:\", p_H\n",
    "\n",
    "# Now boost it (along y for example)\n",
    "p_Hb=p_H.boost([0.,.5,0.])\n",
    "print \"Boosted Higgs:\", p_Hb\n",
    "print \"Mass of Boosted Higgs:\", p_Hb.mass()\n",
    "\n",
    "# Decay the boosted Higgs\n",
    "p1,p2=decay(p_Hb)\n",
    "\n",
    "# Make sure the decay products add back to the Higgs\n",
    "print \"Higgs from daughters:\", p1+p2\n",
    "print \"Higgs mass from daughters:\", (p1+p2).mass()"
   ]
  },
  {
   "cell_type": "code",
   "execution_count": 19,
   "metadata": {},
   "outputs": [],
   "source": [
    "class composite(four_vector):\n",
    "    def __init__(self,daughters):\n",
    "        super(composite, self).__init__()\n",
    "        self.daughters=daughters\n",
    "\n",
    "        tmp=four_vector()\n",
    "        for d in self.daughters:\n",
    "            tmp=tmp+d\n",
    "          \n",
    "        self.setval(tmp.v)\n",
    "\n",
    "\n"
   ]
  },
  {
   "cell_type": "code",
   "execution_count": 20,
   "metadata": {},
   "outputs": [
    {
     "name": "stdout",
     "output_type": "stream",
     "text": [
      "Composite Higgs: (144.337567297, 0.0, 72.1687836487, 0.0)\n",
      "Mass: 125.0\n"
     ]
    }
   ],
   "source": [
    "H_reco=composite([p1,p2])\n",
    "print \"Composite Higgs:\", H_reco\n",
    "print \"Mass:\", H_reco.mass()"
   ]
  },
  {
   "cell_type": "markdown",
   "metadata": {},
   "source": [
    "# Dictionaries"
   ]
  },
  {
   "cell_type": "code",
   "execution_count": null,
   "metadata": {},
   "outputs": [],
   "source": [
    "Events=[]\n",
    "\n",
    "for i in range(1,11):\n",
    "    p_H=four_vector([m_H,0.,0.,0.])\n",
    "    my_boost= float(i)/11.\n",
    "    p_Hb=p_H.boost([0.,my_boost,0.])\n",
    "    p1,p2=decay(p_Hb)\n",
    "    \n",
    "    Event= {\"Higgs\":composite([p1,p2]),\n",
    "           \"Boost\":my_boost}\n",
    "    \n",
    "    Events.append(Event)\n",
    "    \n",
    "# Make sure the decay products add back to the Higgs\n",
    "for i,Event in enumerate(Events):\n",
    "    print \"Event:\",i\n",
    "    print \"Higgs 4-vector:\",Event[\"Higgs\"]\n",
    "    print \"Boost:\",Event[\"Boost\"]\n",
    "\n"
   ]
  },
  {
   "cell_type": "code",
   "execution_count": null,
   "metadata": {},
   "outputs": [],
   "source": []
  },
  {
   "cell_type": "code",
   "execution_count": null,
   "metadata": {},
   "outputs": [],
   "source": []
  },
  {
   "cell_type": "code",
   "execution_count": null,
   "metadata": {},
   "outputs": [],
   "source": []
  }
 ],
 "metadata": {
  "kernelspec": {
   "display_name": "Python 2",
   "language": "python",
   "name": "python2"
  },
  "language_info": {
   "codemirror_mode": {
    "name": "ipython",
    "version": 2
   },
   "file_extension": ".py",
   "mimetype": "text/x-python",
   "name": "python",
   "nbconvert_exporter": "python",
   "pygments_lexer": "ipython2",
   "version": "2.7.10"
  }
 },
 "nbformat": 4,
 "nbformat_minor": 2
}
