{
 "cells": [
  {
   "cell_type": "markdown",
   "metadata": {},
   "source": [
    "## Distributions\n",
    "\n",
    " - **Binomial:**\n",
    "     $f(n,N,p) = \\frac{N!}{n!(N-n)!} P^n (1-P)^{N-n}$\n",
    "     \n",
    "     $E[n] = N_P$\n",
    "     \n",
    "     $V[n] = N_P (1-P)$\n",
    "     \n",
    "     \n",
    " - **Poisson:**\n",
    "     $f(n,v) = \\frac{v^n}{n!} e^{-v}$\n",
    "     \n",
    "     $E[n] = v$\n",
    "     \n",
    "     $V[n] = v$\n",
    "     \n",
    "     \n",
    " - **Exponential:**\n",
    "     $f(t,\\tau) = \\begin{cases}\\frac{1}{\\tau} e^{-\\frac{t}{\\tau}} & t\\ge 0 \\\\0 & t<0 \\end{cases}$\n",
    "     \n",
    "     $E[t] = \\tau$\n",
    "     \n",
    "     $V[t] = \\tau^2$\n",
    " \n",
    " \n",
    " - **Gaussian:**\n",
    "     $f(x,\\mu, \\sigma) = \\frac{1}{\\sqrt{2\\mu}}e^{\\frac{-(x-\\mu)^2}{2\\sigma^2}}$\n",
    "     \n",
    "     $E[x] = \\mu$\n",
    "     \n",
    "     $V[x] = \\sigma^2$"
   ]
  },
  {
   "cell_type": "markdown",
   "metadata": {},
   "source": [
    "### Central Limit Theorem\n",
    "![title](img/1.jpeg)\n",
    "\n",
    "\n",
    "$\\int^{2\\sigma+\\mu}_{-\\mu-\\sigma} f(x,\\mu,\\sigma) = .6827 \\approx 68\\%  = 1\\sigma $\n",
    "\n",
    "$\\int^{2\\sigma+\\mu}_{-\\mu-\\sigma} f(x,\\mu,\\sigma) = .9545 \\approx 95\\%  = 2\\sigma $\n",
    "\n",
    "$\\int^{2\\sigma+\\mu}_{-\\mu-\\sigma} f(x,\\mu,\\sigma) = .9973 \\approx 99\\%  = 3\\sigma $\n",
    "\n"
   ]
  },
  {
   "cell_type": "markdown",
   "metadata": {},
   "source": [
    "### Generating Distributions\n",
    "\n",
    "- Example: for simulations like students in a class"
   ]
  },
  {
   "cell_type": "markdown",
   "metadata": {},
   "source": [
    "**Uniform Distribution:** \n",
    "- \"true\" - rely on a naturally random process ex: Noise\n",
    "    - tend to be blocking\n",
    "\n",
    "- \"Pseudo\" random generator or **PRNG**\n",
    "    - They rely on an algorithm to generate a sequence of numbers\n",
    "        - Key/seed (deterministic)\n",
    "        - repeats eventually\n",
    "\n",
    "        Ex: Linear congruential generator:\n",
    "        $X_{n+1} = (a X_n + b)\\; mod \\; m\\\\where, (a X_n + b) \\;is \\;large \\;no. \\;and \\;m \\;is \\;a \\;prime \\;no.$\n",
    "        \n",
    "        - Quality of **PRNG** is important ex: for use in cryptography\n",
    "        \n",
    "\n",
    "\n",
    "**Normal: Box-Muller**\n",
    "\n",
    "$U_0 \\sim uniform\\\\U_1 \\sim uniform\\\\Z_0 = \\sqrt{-2\\ln{U_1}}\\cdot\\cos{U_1}\\cdot2\\pi\\\\Z_1 = \\sqrt{-2\\ln{U_1}}\\cdot\\sin{U_1}\\cdot2\\pi$\n",
    "\n",
    "\n",
    "- If $F(x)$ is continuous & increasing i.e., $F(x) = \\int^x_{-\\infty}f(x) dx\\\\y = F(x) => X = F^{-1}(y)\\\\y\\sim infinity => X = F^{-1}(y) \\sim F(x)$\n",
    "- $P(\\tau) = \\frac{1}{\\tau} e^{-\\frac{1}{\\tau}} => Continuous \\;distribution\\\\ F(T) = \\int^T_0 \\frac{1}{\\tau}e^{-\\frac{t}{\\tau}}dt = e^{-\\frac{t}{\\tau}}|^T_0\\\\ = 1 - e^{-\\frac{T}{\\tau}}\\approx u\\\\F^{-1}(u) = -\\tau\\ln{1-u} = T (\\;generate\\;un[0,1)\\;\\;)$\n",
    "\n"
   ]
  },
  {
   "cell_type": "markdown",
   "metadata": {},
   "source": [
    "#### Generating other distributions: (Monte Carlo Simulation)\n",
    "\n",
    "- In most standard dostributions there are algorithms to take uniform desired distribution & convert it to desired distribution\n",
    "    Ex: Normal: Box-Muller\n",
    "    $Z_0 = \\sqrt{-2\\ln{U_1}}\\cdot\\cos{U_1}\\cdot2\\pi\\\\Z_1 = \\sqrt{-2\\ln{U_1}}\\cdot\\sin{U_1}\\cdot2\\pi$\n",
    "    \n",
    "    \n",
    "- Inversion: $x\\sim f(x)\\;\\; x = \\{...\\}$\n",
    "    - If $F(x)$ is continuous & increasing,\n",
    "        $F(X) = \\int^x_{-\\infty} f(x)dx <-- Cumulative\\; distributive\\;function\\\\y = F(X) => X = F^{-1}(y)\\\\y \\sim uniform => x = F^{-1}(y)$\n",
    "        \n",
    "\n",
    "- Accept-Reject\n",
    "![title](img/2.jpeg)\n",
    "    - $P \\sim uniform\\\\x \\sim unfiorm\\\\ if \\;p < f(x) \\;-> accept => x \\;-> \\{...\\} else \\;repeat$"
   ]
  }
 ],
 "metadata": {
  "kernelspec": {
   "display_name": "Python 3",
   "language": "python",
   "name": "python3"
  },
  "language_info": {
   "codemirror_mode": {
    "name": "ipython",
    "version": 3
   },
   "file_extension": ".py",
   "mimetype": "text/x-python",
   "name": "python",
   "nbconvert_exporter": "python",
   "pygments_lexer": "ipython3",
   "version": "3.6.6"
  }
 },
 "nbformat": 4,
 "nbformat_minor": 2
}
