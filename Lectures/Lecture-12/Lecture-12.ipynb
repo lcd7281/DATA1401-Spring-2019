{
 "cells": [
  {
   "cell_type": "markdown",
   "metadata": {
    "deletable": true,
    "editable": true
   },
   "source": [
    "# Lecture 12\n",
    "\n",
    "We introduced object oriented programming in python last lecture with some examples. Lets go back at look at things a bit more closely."
   ]
  },
  {
   "cell_type": "markdown",
   "metadata": {
    "deletable": true,
    "editable": true
   },
   "source": [
    "## Classes and Instances\n",
    "\n",
    "Consider the following simple class and instances."
   ]
  },
  {
   "cell_type": "code",
   "execution_count": null,
   "metadata": {
    "collapsed": false,
    "deletable": true,
    "editable": true
   },
   "outputs": [],
   "source": [
    "class person:\n",
    "    name = \"\"\n",
    " \n",
    "    def __init__(self, name):\n",
    "        self.name = name\n",
    " \n",
    "    def say_hello(self):\n",
    "        print \"Hello, my name is \" + self.name\n",
    " \n",
    "# create objects\n",
    "bob = person(\"Bob\")\n",
    "bill = person(\"Bill\")\n",
    " \n",
    "# call methods owned by virtual objects\n",
    "bob.say_hello()\n",
    "bill.say_hello()"
   ]
  },
  {
   "cell_type": "markdown",
   "metadata": {
    "deletable": true,
    "editable": true
   },
   "source": [
    "## Public and Private Methods\n",
    "\n",
    "By convention, methods that start with two underscores (`__`) are considered to be private and are meant to be only called by the class."
   ]
  },
  {
   "cell_type": "code",
   "execution_count": null,
   "metadata": {
    "collapsed": false,
    "deletable": true,
    "editable": true
   },
   "outputs": [],
   "source": [
    "class device: \n",
    "    def __init__(self):\n",
    "        self.__update()\n",
    " \n",
    "    def operate(self):\n",
    "        print 'operate'\n",
    " \n",
    "    def __update(self):\n",
    "        print 'updating software'\n",
    " \n",
    "a_device= device()\n",
    "\n",
    "a_device.operate()\n",
    "\n",
    "# This will fail\n",
    "a_device.__update()"
   ]
  },
  {
   "cell_type": "markdown",
   "metadata": {
    "deletable": true,
    "editable": true
   },
   "source": [
    "## Public and Private Data\n",
    "\n",
    "Usually a class needs to control the data it holds. If an external class or user changes a data member of a class in a unexpected way, then the class can fail.\n",
    "\n",
    "The way to control the data in your classes is to make the varibles holding the data private and create \"setter\" and \"accessor\" functions."
   ]
  },
  {
   "cell_type": "code",
   "execution_count": null,
   "metadata": {
    "collapsed": false,
    "deletable": true,
    "editable": true
   },
   "outputs": [],
   "source": [
    "class car:\n",
    "    __name = \"\"\n",
    "    __n_doors = 0\n",
    "    __n_passangers = 0\n",
    "    __max_passangers = 4\n",
    "    \n",
    "    def __init__(self,name=\"Unnamed\",n_doors=4, max_passangers=4):\n",
    "        self.__name=name\n",
    "        self.__n_doors=n_doors\n",
    "        self.__max_passangers=max_passangers\n",
    "        \n",
    "    ## Accessors\n",
    "    def name(self):\n",
    "        return self.__name\n",
    "    \n",
    "    def n_doors(self):\n",
    "        return self.__n_doors\n",
    "    \n",
    "    def n_passangers(self):\n",
    "        return self.__n_passangers\n",
    "    \n",
    "    ## Setter\n",
    "    def set_name(self,name):\n",
    "        if isinstance(name,str):\n",
    "            self.__name=name\n",
    "        else:\n",
    "            print \"Name must be a string.\"\n",
    "        \n",
    "    ## Can't change number of doors on a car... so no setter for __n_doors\n",
    "        \n",
    "    ## We can only add and remove passangers\n",
    "    def add_passanger(self,n=1):\n",
    "        if isinstance(n,(int,float)):\n",
    "            self.__n_passangers+=n\n",
    "            if self.__n_passangers>self.__max_passangers:\n",
    "                self.__n_passangers=self.__max_passangers\n",
    "                print \"Car is full. \",n-self.max_passangers,\" passangers were left outside.\"\n",
    "        else:\n",
    "            print \"Number of passangers must be an interger.\"\n",
    "        \n",
    "    def remove_passanger(self,n=1):\n",
    "        if isinstance(n,int):\n",
    "            self.__n_passangers-=n\n",
    "            if self.__n_passangers<0:\n",
    "                self.__n_passangers=0            \n",
    "        else:\n",
    "            print \"Number of passangers must be an interger.\"\n",
    "\n",
    "\n",
    "\n",
    "my_car=car()\n",
    "print my_car.name()\n",
    "my_car.set_name(\"My Car\")\n",
    "print my_car.name()\n",
    "\n",
    "my_car.add_passanger()\n",
    "print my_car.n_passangers()\n"
   ]
  },
  {
   "cell_type": "markdown",
   "metadata": {
    "deletable": true,
    "editable": true
   },
   "source": [
    "## Inheritance\n",
    "\n",
    "Consider the following example:"
   ]
  },
  {
   "cell_type": "code",
   "execution_count": null,
   "metadata": {
    "collapsed": false,
    "deletable": true,
    "editable": true
   },
   "outputs": [],
   "source": [
    "class base(object):\n",
    "    def __init__(self):\n",
    "        print \"Base constructor\"\n",
    "\n",
    "class child_A(base):\n",
    "    def __init__(self):\n",
    "        print \"Child A constructor\"\n",
    "        base.__init__(self)\n",
    "\n",
    "class child_B(base):\n",
    "    def __init__(self):\n",
    "        print \"Child B constructor\"\n",
    "        super(child_B, self).__init__()\n",
    "\n",
    "child_A() \n",
    "child_B()"
   ]
  },
  {
   "cell_type": "markdown",
   "metadata": {
    "collapsed": true,
    "deletable": true,
    "editable": true
   },
   "source": [
    "## Method Overloading"
   ]
  },
  {
   "cell_type": "code",
   "execution_count": null,
   "metadata": {
    "collapsed": false,
    "deletable": true,
    "editable": true
   },
   "outputs": [],
   "source": [
    "\n",
    "class person:\n",
    "    __name=\"\"\n",
    "    __gender=\"\"\n",
    "    def __init__(self, name,gender):\n",
    "        self.__name=name\n",
    "        self.__gender=gender\n",
    "    \n",
    "    # This is a virtual method\n",
    "    def do_work(self):\n",
    "        raise NotImplementedError\n",
    "    \n",
    "class student(person):\n",
    "    __year=0\n",
    "    __grades=list()\n",
    "    \n",
    "    def __init__(self, name, gender, year):\n",
    "        person.__init__(self,name,gender)\n",
    "        self.__year=year\n",
    "    \n",
    "    def add_grade(self,grade):\n",
    "        self.__grades.append(grade)\n",
    "        \n",
    "    def average_grade(self):\n",
    "        return sum(self.__grades)/len(self.__grades)\n",
    "    \n",
    "    def print_grades(self):\n",
    "        for grade in self.__grades:\n",
    "            print grade\n",
    "            \n",
    "    def do_work(self):\n",
    "        print \"Learning...\"\n",
    "\n",
    "            \n",
    "class faculty(person):\n",
    "    __courses=list()\n",
    "    \n",
    "    def __init__(self, name, gender):\n",
    "        person.__init__(self,name,gender)\n",
    "    \n",
    "    def add_courses(self,course):\n",
    "        self.__courses.append(course)\n",
    "        \n",
    "    def print_courses(self):\n",
    "        for courses in self.__courses:\n",
    "            print course\n",
    "\n",
    "    def do_work(self):\n",
    "        print \"Teaching...\"\n",
    "\n",
    "    \n",
    "    \n",
    "a_student=student(\"Bob\",\"Male\",2)\n",
    "a_teacher=faculty(\"Mary\",\"Female\")\n",
    "\n",
    "a_student.do_work()\n",
    "a_teacher.do_work()"
   ]
  },
  {
   "cell_type": "markdown",
   "metadata": {
    "deletable": true,
    "editable": true
   },
   "source": [
    "## Polymorphism\n",
    "\n"
   ]
  },
  {
   "cell_type": "code",
   "execution_count": null,
   "metadata": {
    "collapsed": false,
    "deletable": true,
    "editable": true
   },
   "outputs": [],
   "source": [
    "people= [student(\"Bob\",\"Male\",2), faculty(\"Mary\",\"Female\")]\n",
    "\n",
    "for person in people:\n",
    "    person.do_work()"
   ]
  },
  {
   "cell_type": "code",
   "execution_count": null,
   "metadata": {
    "collapsed": false,
    "deletable": true,
    "editable": true
   },
   "outputs": [],
   "source": [
    "isinstance(a_student,student)"
   ]
  },
  {
   "cell_type": "code",
   "execution_count": null,
   "metadata": {
    "collapsed": false,
    "deletable": true,
    "editable": true
   },
   "outputs": [],
   "source": [
    "for person in people:\n",
    "    if isinstance(person,student):\n",
    "        person.add_grade(100.)\n",
    "    if isinstance(person,faculty):\n",
    "        person.add_courses(\"Data 1401\")\n",
    "\n",
    "people[0].print_grades()\n"
   ]
  },
  {
   "cell_type": "markdown",
   "metadata": {
    "deletable": true,
    "editable": true
   },
   "source": [
    "## Overloading Built-ins\n",
    "\n",
    "I found [this](https://realpython.com/operator-function-overloading/) walk through of overloading python operators to be very well done, so lets go through it.\n",
    "\n",
    "For a complete list of operators, look at the table at the bottom of the[Operator Library referece](https://docs.python.org/2/library/operator.html).\n",
    "\n"
   ]
  },
  {
   "cell_type": "code",
   "execution_count": null,
   "metadata": {
    "collapsed": true,
    "deletable": true,
    "editable": true
   },
   "outputs": [],
   "source": []
  }
 ],
 "metadata": {
  "kernelspec": {
   "display_name": "Python 2",
   "language": "python",
   "name": "python2"
  },
  "language_info": {
   "codemirror_mode": {
    "name": "ipython",
    "version": 2
   },
   "file_extension": ".py",
   "mimetype": "text/x-python",
   "name": "python",
   "nbconvert_exporter": "python",
   "pygments_lexer": "ipython2",
   "version": "2.7.10"
  }
 },
 "nbformat": 4,
 "nbformat_minor": 2
}
